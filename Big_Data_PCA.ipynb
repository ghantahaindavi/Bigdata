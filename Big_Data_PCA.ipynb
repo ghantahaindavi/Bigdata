{
  "cells": [
    {
      "cell_type": "code",
      "execution_count": null,
      "metadata": {
        "id": "29b92b51"
      },
      "outputs": [],
      "source": [
        "#!pip install -U imbalanced-learn\n",
        "#!pip install -U scikit-learn"
      ],
      "id": "29b92b51"
    },
    {
      "cell_type": "code",
      "execution_count": null,
      "metadata": {
        "colab": {
          "base_uri": "https://localhost:8080/"
        },
        "id": "7e2781eb",
        "outputId": "72864edd-5030-4623-8d54-0ea54d4c0162"
      },
      "outputs": [
        {
          "output_type": "stream",
          "name": "stdout",
          "text": [
            "Requirement already satisfied: pyspark in /usr/local/lib/python3.10/dist-packages (3.5.0)\n",
            "Requirement already satisfied: py4j==0.10.9.7 in /usr/local/lib/python3.10/dist-packages (from pyspark) (0.10.9.7)\n"
          ]
        }
      ],
      "source": [
        "! pip install pyspark"
      ],
      "id": "7e2781eb"
    },
    {
      "cell_type": "code",
      "execution_count": null,
      "metadata": {
        "id": "fcb1a434"
      },
      "outputs": [],
      "source": [
        "import time\n",
        "from pyspark.sql import SparkSession\n",
        "from pyspark.ml.feature import StringIndexer, VectorAssembler\n",
        "from pyspark.ml import Pipeline\n",
        "from pyspark.ml.classification import LogisticRegression, DecisionTreeClassifier, \\\n",
        "                                      NaiveBayes, RandomForestClassifier, GBTClassifier, \\\n",
        "                                      MultilayerPerceptronClassifier, LinearSVC, \\\n",
        "                                      OneVsRest\n",
        "from pyspark.ml.evaluation import MulticlassClassificationEvaluator"
      ],
      "id": "fcb1a434"
    },
    {
      "cell_type": "code",
      "execution_count": null,
      "metadata": {
        "id": "d5747261"
      },
      "outputs": [],
      "source": [
        "from pyspark.sql import SparkSession\n",
        "# Initialize Spark session\n",
        "spark = SparkSession.builder.appName(\"IntrusionDetection\").getOrCreate()"
      ],
      "id": "d5747261"
    },
    {
      "cell_type": "code",
      "execution_count": null,
      "metadata": {
        "id": "e2aba7b8"
      },
      "outputs": [],
      "source": [
        "start = time.time()"
      ],
      "id": "e2aba7b8"
    },
    {
      "cell_type": "code",
      "execution_count": null,
      "metadata": {
        "id": "b0807bdc"
      },
      "outputs": [],
      "source": [
        "features = [\"duration\", \"protocol_type\", \"service\", \"flag\", \"src_bytes\", \"dst_bytes\",\n",
        "            \"land\", \"wrong_fragment\", \"urgent\", \"hot\", \"num_failed_logins\", \"logged_in\",\n",
        "            \"num_compromised\", \"root_shell\", \"su_attempted\", \"num_root\", \"num_file_creations\",\n",
        "            \"num_shells\", \"num_access_files\", \"num_outbound_cmds\", \"is_host_login\",\n",
        "            \"is_guest_login\", \"count\", \"srv_count\", \"serror_rate\", \"srv_serror_rate\", \"rerror_rate\",\n",
        "            \"srv_rerror_rate\", \"same_srv_rate\", \"diff_srv_rate\", \"srv_diff_host_rate\", \"dst_host_count\",\n",
        "            \"dst_host_srv_count\", \"dst_host_same_srv_rate\", \"dst_host_diff_srv_rate\",\n",
        "            \"dst_host_same_src_port_rate\", \"dst_host_srv_diff_host_rate\", \"dst_host_serror_rate\",\n",
        "            \"dst_host_srv_serror_rate\", \"dst_host_rerror_rate\", \"dst_host_srv_rerror_rate\", \"label\"]"
      ],
      "id": "b0807bdc"
    },
    {
      "cell_type": "code",
      "execution_count": null,
      "metadata": {
        "id": "0de866dd"
      },
      "outputs": [],
      "source": [
        "dataset = spark.read.csv(\"/content/corrected\", inferSchema=True, header=False)"
      ],
      "id": "0de866dd"
    },
    {
      "cell_type": "code",
      "execution_count": null,
      "metadata": {
        "id": "8bddf766"
      },
      "outputs": [],
      "source": [
        "dataset = dataset.toDF(*features)"
      ],
      "id": "8bddf766"
    },
    {
      "cell_type": "code",
      "execution_count": null,
      "metadata": {
        "id": "ebcd6669"
      },
      "outputs": [],
      "source": [
        "from pyspark.sql.functions import regexp_replace\n",
        "dataset = dataset.withColumn(\"label\", regexp_replace(\"label\", \"\\.\", \"\"))"
      ],
      "id": "ebcd6669"
    },
    {
      "cell_type": "code",
      "execution_count": null,
      "metadata": {
        "colab": {
          "base_uri": "https://localhost:8080/"
        },
        "id": "c73b7e60",
        "outputId": "2c551de5-a6f6-46ae-a96b-ffe0527f31e4"
      },
      "outputs": [
        {
          "output_type": "stream",
          "name": "stdout",
          "text": [
            "Dataset sizes: 311029 samples, 42 features\n"
          ]
        }
      ],
      "source": [
        "print(\"Dataset sizes: {row} samples, {cols} features\".format(row=dataset.count(), cols=len(dataset.columns)))"
      ],
      "id": "c73b7e60"
    },
    {
      "cell_type": "code",
      "execution_count": null,
      "metadata": {
        "id": "aed6bc82"
      },
      "outputs": [],
      "source": [
        "def find_categorical_columns(df):\n",
        "    categorical_columns = [col for (col, data_type) in df.dtypes if data_type == \"string\"]\n",
        "    return categorical_columns"
      ],
      "id": "aed6bc82"
    },
    {
      "cell_type": "code",
      "execution_count": null,
      "metadata": {
        "colab": {
          "base_uri": "https://localhost:8080/"
        },
        "id": "94d1cfac",
        "outputId": "3d6c4b52-1b77-4745-d072-13ced9b72754"
      },
      "outputs": [
        {
          "output_type": "stream",
          "name": "stdout",
          "text": [
            "Categorical Columns: ['protocol_type', 'service', 'flag', 'label']\n"
          ]
        }
      ],
      "source": [
        "# Identify categorical columns in the DataFrame\n",
        "categorical_columns = find_categorical_columns(dataset)\n",
        "\n",
        "# Print the result\n",
        "print(\"Categorical Columns:\", categorical_columns)"
      ],
      "id": "94d1cfac"
    },
    {
      "cell_type": "code",
      "execution_count": null,
      "metadata": {
        "colab": {
          "base_uri": "https://localhost:8080/"
        },
        "id": "4a8801f5",
        "outputId": "7b73f72d-e88a-4e9d-b1f8-5c8b0dc85d0d"
      },
      "outputs": [
        {
          "output_type": "stream",
          "name": "stdout",
          "text": [
            "root\n",
            " |-- duration: integer (nullable = true)\n",
            " |-- protocol_type: string (nullable = true)\n",
            " |-- service: string (nullable = true)\n",
            " |-- flag: string (nullable = true)\n",
            " |-- src_bytes: integer (nullable = true)\n",
            " |-- dst_bytes: integer (nullable = true)\n",
            " |-- land: integer (nullable = true)\n",
            " |-- wrong_fragment: integer (nullable = true)\n",
            " |-- urgent: integer (nullable = true)\n",
            " |-- hot: integer (nullable = true)\n",
            " |-- num_failed_logins: integer (nullable = true)\n",
            " |-- logged_in: integer (nullable = true)\n",
            " |-- num_compromised: integer (nullable = true)\n",
            " |-- root_shell: integer (nullable = true)\n",
            " |-- su_attempted: integer (nullable = true)\n",
            " |-- num_root: integer (nullable = true)\n",
            " |-- num_file_creations: integer (nullable = true)\n",
            " |-- num_shells: integer (nullable = true)\n",
            " |-- num_access_files: integer (nullable = true)\n",
            " |-- num_outbound_cmds: integer (nullable = true)\n",
            " |-- is_host_login: integer (nullable = true)\n",
            " |-- is_guest_login: integer (nullable = true)\n",
            " |-- count: integer (nullable = true)\n",
            " |-- srv_count: integer (nullable = true)\n",
            " |-- serror_rate: double (nullable = true)\n",
            " |-- srv_serror_rate: double (nullable = true)\n",
            " |-- rerror_rate: double (nullable = true)\n",
            " |-- srv_rerror_rate: double (nullable = true)\n",
            " |-- same_srv_rate: double (nullable = true)\n",
            " |-- diff_srv_rate: double (nullable = true)\n",
            " |-- srv_diff_host_rate: double (nullable = true)\n",
            " |-- dst_host_count: integer (nullable = true)\n",
            " |-- dst_host_srv_count: integer (nullable = true)\n",
            " |-- dst_host_same_srv_rate: double (nullable = true)\n",
            " |-- dst_host_diff_srv_rate: double (nullable = true)\n",
            " |-- dst_host_same_src_port_rate: double (nullable = true)\n",
            " |-- dst_host_srv_diff_host_rate: double (nullable = true)\n",
            " |-- dst_host_serror_rate: double (nullable = true)\n",
            " |-- dst_host_srv_serror_rate: double (nullable = true)\n",
            " |-- dst_host_rerror_rate: double (nullable = true)\n",
            " |-- dst_host_srv_rerror_rate: double (nullable = true)\n",
            " |-- label: string (nullable = true)\n",
            "\n",
            "+--------+-------------+--------+----+---------+---------+----+--------------+------+---+-----------------+---------+---------------+----------+------------+--------+------------------+----------+----------------+-----------------+-------------+--------------+-----+---------+-----------+---------------+-----------+---------------+-------------+-------------+------------------+--------------+------------------+----------------------+----------------------+---------------------------+---------------------------+--------------------+------------------------+--------------------+------------------------+-------------+\n",
            "|duration|protocol_type| service|flag|src_bytes|dst_bytes|land|wrong_fragment|urgent|hot|num_failed_logins|logged_in|num_compromised|root_shell|su_attempted|num_root|num_file_creations|num_shells|num_access_files|num_outbound_cmds|is_host_login|is_guest_login|count|srv_count|serror_rate|srv_serror_rate|rerror_rate|srv_rerror_rate|same_srv_rate|diff_srv_rate|srv_diff_host_rate|dst_host_count|dst_host_srv_count|dst_host_same_srv_rate|dst_host_diff_srv_rate|dst_host_same_src_port_rate|dst_host_srv_diff_host_rate|dst_host_serror_rate|dst_host_srv_serror_rate|dst_host_rerror_rate|dst_host_srv_rerror_rate|        label|\n",
            "+--------+-------------+--------+----+---------+---------+----+--------------+------+---+-----------------+---------+---------------+----------+------------+--------+------------------+----------+----------------+-----------------+-------------+--------------+-----+---------+-----------+---------------+-----------+---------------+-------------+-------------+------------------+--------------+------------------+----------------------+----------------------+---------------------------+---------------------------+--------------------+------------------------+--------------------+------------------------+-------------+\n",
            "|       0|          udp| private|  SF|      105|      146|   0|             0|     0|  0|                0|        0|              0|         0|           0|       0|                 0|         0|               0|                0|            0|             0|    1|        1|        0.0|            0.0|        0.0|            0.0|          1.0|          0.0|               0.0|           255|               254|                   1.0|                  0.01|                        0.0|                        0.0|                 0.0|                     0.0|                 0.0|                     0.0|       normal|\n",
            "|       0|          udp| private|  SF|      105|      146|   0|             0|     0|  0|                0|        0|              0|         0|           0|       0|                 0|         0|               0|                0|            0|             0|    1|        1|        0.0|            0.0|        0.0|            0.0|          1.0|          0.0|               0.0|           255|               254|                   1.0|                  0.01|                        0.0|                        0.0|                 0.0|                     0.0|                 0.0|                     0.0|       normal|\n",
            "|       0|          udp| private|  SF|      105|      146|   0|             0|     0|  0|                0|        0|              0|         0|           0|       0|                 0|         0|               0|                0|            0|             0|    1|        1|        0.0|            0.0|        0.0|            0.0|          1.0|          0.0|               0.0|           255|               254|                   1.0|                  0.01|                        0.0|                        0.0|                 0.0|                     0.0|                 0.0|                     0.0|       normal|\n",
            "|       0|          udp| private|  SF|      105|      146|   0|             0|     0|  0|                0|        0|              0|         0|           0|       0|                 0|         0|               0|                0|            0|             0|    2|        2|        0.0|            0.0|        0.0|            0.0|          1.0|          0.0|               0.0|           255|               254|                   1.0|                  0.01|                        0.0|                        0.0|                 0.0|                     0.0|                 0.0|                     0.0|snmpgetattack|\n",
            "|       0|          udp| private|  SF|      105|      146|   0|             0|     0|  0|                0|        0|              0|         0|           0|       0|                 0|         0|               0|                0|            0|             0|    2|        2|        0.0|            0.0|        0.0|            0.0|          1.0|          0.0|               0.0|           255|               254|                   1.0|                  0.01|                       0.01|                        0.0|                 0.0|                     0.0|                 0.0|                     0.0|snmpgetattack|\n",
            "|       0|          udp| private|  SF|      105|      146|   0|             0|     0|  0|                0|        0|              0|         0|           0|       0|                 0|         0|               0|                0|            0|             0|    2|        2|        0.0|            0.0|        0.0|            0.0|          1.0|          0.0|               0.0|           255|               255|                   1.0|                   0.0|                       0.01|                        0.0|                 0.0|                     0.0|                 0.0|                     0.0|snmpgetattack|\n",
            "|       0|          udp|domain_u|  SF|       29|        0|   0|             0|     0|  0|                0|        0|              0|         0|           0|       0|                 0|         0|               0|                0|            0|             0|    2|        1|        0.0|            0.0|        0.0|            0.0|          0.5|          1.0|               0.0|            10|                 3|                   0.3|                   0.3|                        0.3|                        0.0|                 0.0|                     0.0|                 0.0|                     0.0|       normal|\n",
            "|       0|          udp| private|  SF|      105|      146|   0|             0|     0|  0|                0|        0|              0|         0|           0|       0|                 0|         0|               0|                0|            0|             0|    1|        1|        0.0|            0.0|        0.0|            0.0|          1.0|          0.0|               0.0|           255|               253|                  0.99|                  0.01|                        0.0|                        0.0|                 0.0|                     0.0|                 0.0|                     0.0|       normal|\n",
            "|       0|          udp| private|  SF|      105|      146|   0|             0|     0|  0|                0|        0|              0|         0|           0|       0|                 0|         0|               0|                0|            0|             0|    2|        2|        0.0|            0.0|        0.0|            0.0|          1.0|          0.0|               0.0|           255|               254|                   1.0|                  0.01|                        0.0|                        0.0|                 0.0|                     0.0|                 0.0|                     0.0|snmpgetattack|\n",
            "|       0|          tcp|    http|  SF|      223|      185|   0|             0|     0|  0|                0|        1|              0|         0|           0|       0|                 0|         0|               0|                0|            0|             0|    4|        4|        0.0|            0.0|        0.0|            0.0|          1.0|          0.0|               0.0|            71|               255|                   1.0|                   0.0|                       0.01|                       0.01|                 0.0|                     0.0|                 0.0|                     0.0|       normal|\n",
            "|       0|          udp| private|  SF|      105|      146|   0|             0|     0|  0|                0|        0|              0|         0|           0|       0|                 0|         0|               0|                0|            0|             0|    2|        2|        0.0|            0.0|        0.0|            0.0|          1.0|          0.0|               0.0|           255|               254|                   1.0|                  0.01|                        0.0|                        0.0|                 0.0|                     0.0|                 0.0|                     0.0|snmpgetattack|\n",
            "|       0|          tcp|    http|  SF|      230|      260|   0|             0|     0|  0|                0|        1|              0|         0|           0|       0|                 0|         0|               0|                0|            0|             0|    1|       19|        0.0|            0.0|        0.0|            0.0|          1.0|          0.0|              0.11|             3|               255|                   1.0|                   0.0|                       0.33|                       0.07|                0.33|                     0.0|                 0.0|                     0.0|       normal|\n",
            "|       0|          udp| private|  SF|      105|      146|   0|             0|     0|  0|                0|        0|              0|         0|           0|       0|                 0|         0|               0|                0|            0|             0|    1|        1|        0.0|            0.0|        0.0|            0.0|          1.0|          0.0|               0.0|           255|               254|                   1.0|                  0.01|                       0.01|                        0.0|                 0.0|                     0.0|                 0.0|                     0.0|       normal|\n",
            "|       0|          udp| private|  SF|      105|      146|   0|             0|     0|  0|                0|        0|              0|         0|           0|       0|                 0|         0|               0|                0|            0|             0|    2|        2|        0.0|            0.0|        0.0|            0.0|          1.0|          0.0|               0.0|           255|               252|                  0.99|                  0.01|                        0.0|                        0.0|                 0.0|                     0.0|                 0.0|                     0.0|snmpgetattack|\n",
            "|       1|          tcp|    smtp|  SF|     3170|      329|   0|             0|     0|  0|                0|        1|              0|         0|           0|       0|                 0|         0|               0|                0|            0|             0|    1|        2|        0.0|            0.0|        0.0|            0.0|          1.0|          0.0|               1.0|            54|                39|                  0.72|                  0.11|                       0.02|                        0.0|                0.02|                     0.0|                0.09|                    0.13|       normal|\n",
            "|       0|          tcp|    http|  SF|      297|    13787|   0|             0|     0|  0|                0|        1|              0|         0|           0|       0|                 0|         0|               0|                0|            0|             0|    2|        2|        0.0|            0.0|        0.0|            0.0|          1.0|          0.0|               0.0|           177|               255|                   1.0|                   0.0|                       0.01|                       0.01|                 0.0|                     0.0|                 0.0|                     0.0|       normal|\n",
            "|       0|          tcp|    http|  SF|      291|     3542|   0|             0|     0|  0|                0|        1|              0|         0|           0|       0|                 0|         0|               0|                0|            0|             0|   12|       12|        0.0|            0.0|        0.0|            0.0|          1.0|          0.0|               0.0|           187|               255|                   1.0|                   0.0|                       0.01|                       0.01|                 0.0|                     0.0|                 0.0|                     0.0|       normal|\n",
            "|       0|          tcp|    http|  SF|      295|      753|   0|             0|     0|  0|                0|        1|              0|         0|           0|       0|                 0|         0|               0|                0|            0|             0|   21|       22|        0.0|            0.0|        0.0|            0.0|          1.0|          0.0|              0.09|           196|               255|                   1.0|                   0.0|                       0.01|                       0.01|                 0.0|                     0.0|                 0.0|                     0.0|       normal|\n",
            "|       0|          udp| private|  SF|      105|      146|   0|             0|     0|  0|                0|        0|              0|         0|           0|       0|                 0|         0|               0|                0|            0|             0|    2|        2|        0.0|            0.0|        0.0|            0.0|          1.0|          0.0|               0.0|           255|               254|                   1.0|                  0.01|                       0.01|                        0.0|                 0.0|                     0.0|                 0.0|                     0.0|snmpgetattack|\n",
            "|       0|          udp| private|  SF|      105|      146|   0|             0|     0|  0|                0|        0|              0|         0|           0|       0|                 0|         0|               0|                0|            0|             0|    1|        1|        0.0|            0.0|        0.0|            0.0|          1.0|          0.0|               0.0|           255|               254|                   1.0|                  0.01|                        0.0|                        0.0|                 0.0|                     0.0|                 0.0|                     0.0|snmpgetattack|\n",
            "+--------+-------------+--------+----+---------+---------+----+--------------+------+---+-----------------+---------+---------------+----------+------------+--------+------------------+----------+----------------+-----------------+-------------+--------------+-----+---------+-----------+---------------+-----------+---------------+-------------+-------------+------------------+--------------+------------------+----------------------+----------------------+---------------------------+---------------------------+--------------------+------------------------+--------------------+------------------------+-------------+\n",
            "only showing top 20 rows\n",
            "\n"
          ]
        }
      ],
      "source": [
        "# Check the schema and data\n",
        "dataset.printSchema()\n",
        "dataset.show()"
      ],
      "id": "4a8801f5"
    },
    {
      "cell_type": "code",
      "execution_count": null,
      "metadata": {
        "id": "60157967"
      },
      "outputs": [],
      "source": [
        "categorical_features = [\"protocol_type\", \"service\", \"flag\"]\n",
        "indexers = [StringIndexer(inputCol=column, outputCol=column + \"_num\") for column in categorical_features]"
      ],
      "id": "60157967"
    },
    {
      "cell_type": "code",
      "execution_count": null,
      "metadata": {
        "colab": {
          "base_uri": "https://localhost:8080/"
        },
        "id": "wKeoonmgHk8x",
        "outputId": "b5a9e7f8-1f6f-4c8e-b170-e357e1af76fc"
      },
      "outputs": [
        {
          "output_type": "execute_result",
          "data": {
            "text/plain": [
              "[StringIndexer_43a6f73904eb,\n",
              " StringIndexer_e30cc760d99c,\n",
              " StringIndexer_5e2a668117b1]"
            ]
          },
          "metadata": {},
          "execution_count": 15
        }
      ],
      "source": [
        "indexers"
      ],
      "id": "wKeoonmgHk8x"
    },
    {
      "cell_type": "code",
      "execution_count": null,
      "metadata": {
        "id": "Ebm5tzEJHhvn"
      },
      "outputs": [],
      "source": [
        "indexers.append(StringIndexer(inputCol=\"label\", outputCol=\"label_num\"))\n",
        "pipeline = Pipeline(stages=indexers)\n",
        "dataset = pipeline.fit(dataset).transform(dataset)"
      ],
      "id": "Ebm5tzEJHhvn"
    },
    {
      "cell_type": "code",
      "execution_count": null,
      "metadata": {
        "colab": {
          "base_uri": "https://localhost:8080/"
        },
        "id": "BC_H7H9mHsfz",
        "outputId": "fecccae9-0303-4135-b84e-d79eb95a2f10"
      },
      "outputs": [
        {
          "output_type": "stream",
          "name": "stdout",
          "text": [
            "+--------+-------------+--------+----+---------+---------+----+--------------+------+---+-----------------+---------+---------------+----------+------------+--------+------------------+----------+----------------+-----------------+-------------+--------------+-----+---------+-----------+---------------+-----------+---------------+-------------+-------------+------------------+--------------+------------------+----------------------+----------------------+---------------------------+---------------------------+--------------------+------------------------+--------------------+------------------------+-------------+-----------------+-----------+--------+---------+\n",
            "|duration|protocol_type| service|flag|src_bytes|dst_bytes|land|wrong_fragment|urgent|hot|num_failed_logins|logged_in|num_compromised|root_shell|su_attempted|num_root|num_file_creations|num_shells|num_access_files|num_outbound_cmds|is_host_login|is_guest_login|count|srv_count|serror_rate|srv_serror_rate|rerror_rate|srv_rerror_rate|same_srv_rate|diff_srv_rate|srv_diff_host_rate|dst_host_count|dst_host_srv_count|dst_host_same_srv_rate|dst_host_diff_srv_rate|dst_host_same_src_port_rate|dst_host_srv_diff_host_rate|dst_host_serror_rate|dst_host_srv_serror_rate|dst_host_rerror_rate|dst_host_srv_rerror_rate|        label|protocol_type_num|service_num|flag_num|label_num|\n",
            "+--------+-------------+--------+----+---------+---------+----+--------------+------+---+-----------------+---------+---------------+----------+------------+--------+------------------+----------+----------------+-----------------+-------------+--------------+-----+---------+-----------+---------------+-----------+---------------+-------------+-------------+------------------+--------------+------------------+----------------------+----------------------+---------------------------+---------------------------+--------------------+------------------------+--------------------+------------------------+-------------+-----------------+-----------+--------+---------+\n",
            "|       0|          udp| private|  SF|      105|      146|   0|             0|     0|  0|                0|        0|              0|         0|           0|       0|                 0|         0|               0|                0|            0|             0|    1|        1|        0.0|            0.0|        0.0|            0.0|          1.0|          0.0|               0.0|           255|               254|                   1.0|                  0.01|                        0.0|                        0.0|                 0.0|                     0.0|                 0.0|                     0.0|       normal|              2.0|        1.0|     0.0|      1.0|\n",
            "|       0|          udp| private|  SF|      105|      146|   0|             0|     0|  0|                0|        0|              0|         0|           0|       0|                 0|         0|               0|                0|            0|             0|    1|        1|        0.0|            0.0|        0.0|            0.0|          1.0|          0.0|               0.0|           255|               254|                   1.0|                  0.01|                        0.0|                        0.0|                 0.0|                     0.0|                 0.0|                     0.0|       normal|              2.0|        1.0|     0.0|      1.0|\n",
            "|       0|          udp| private|  SF|      105|      146|   0|             0|     0|  0|                0|        0|              0|         0|           0|       0|                 0|         0|               0|                0|            0|             0|    1|        1|        0.0|            0.0|        0.0|            0.0|          1.0|          0.0|               0.0|           255|               254|                   1.0|                  0.01|                        0.0|                        0.0|                 0.0|                     0.0|                 0.0|                     0.0|       normal|              2.0|        1.0|     0.0|      1.0|\n",
            "|       0|          udp| private|  SF|      105|      146|   0|             0|     0|  0|                0|        0|              0|         0|           0|       0|                 0|         0|               0|                0|            0|             0|    2|        2|        0.0|            0.0|        0.0|            0.0|          1.0|          0.0|               0.0|           255|               254|                   1.0|                  0.01|                        0.0|                        0.0|                 0.0|                     0.0|                 0.0|                     0.0|snmpgetattack|              2.0|        1.0|     0.0|      3.0|\n",
            "|       0|          udp| private|  SF|      105|      146|   0|             0|     0|  0|                0|        0|              0|         0|           0|       0|                 0|         0|               0|                0|            0|             0|    2|        2|        0.0|            0.0|        0.0|            0.0|          1.0|          0.0|               0.0|           255|               254|                   1.0|                  0.01|                       0.01|                        0.0|                 0.0|                     0.0|                 0.0|                     0.0|snmpgetattack|              2.0|        1.0|     0.0|      3.0|\n",
            "|       0|          udp| private|  SF|      105|      146|   0|             0|     0|  0|                0|        0|              0|         0|           0|       0|                 0|         0|               0|                0|            0|             0|    2|        2|        0.0|            0.0|        0.0|            0.0|          1.0|          0.0|               0.0|           255|               255|                   1.0|                   0.0|                       0.01|                        0.0|                 0.0|                     0.0|                 0.0|                     0.0|snmpgetattack|              2.0|        1.0|     0.0|      3.0|\n",
            "|       0|          udp|domain_u|  SF|       29|        0|   0|             0|     0|  0|                0|        0|              0|         0|           0|       0|                 0|         0|               0|                0|            0|             0|    2|        1|        0.0|            0.0|        0.0|            0.0|          0.5|          1.0|               0.0|            10|                 3|                   0.3|                   0.3|                        0.3|                        0.0|                 0.0|                     0.0|                 0.0|                     0.0|       normal|              2.0|        5.0|     0.0|      1.0|\n",
            "|       0|          udp| private|  SF|      105|      146|   0|             0|     0|  0|                0|        0|              0|         0|           0|       0|                 0|         0|               0|                0|            0|             0|    1|        1|        0.0|            0.0|        0.0|            0.0|          1.0|          0.0|               0.0|           255|               253|                  0.99|                  0.01|                        0.0|                        0.0|                 0.0|                     0.0|                 0.0|                     0.0|       normal|              2.0|        1.0|     0.0|      1.0|\n",
            "|       0|          udp| private|  SF|      105|      146|   0|             0|     0|  0|                0|        0|              0|         0|           0|       0|                 0|         0|               0|                0|            0|             0|    2|        2|        0.0|            0.0|        0.0|            0.0|          1.0|          0.0|               0.0|           255|               254|                   1.0|                  0.01|                        0.0|                        0.0|                 0.0|                     0.0|                 0.0|                     0.0|snmpgetattack|              2.0|        1.0|     0.0|      3.0|\n",
            "|       0|          tcp|    http|  SF|      223|      185|   0|             0|     0|  0|                0|        1|              0|         0|           0|       0|                 0|         0|               0|                0|            0|             0|    4|        4|        0.0|            0.0|        0.0|            0.0|          1.0|          0.0|               0.0|            71|               255|                   1.0|                   0.0|                       0.01|                       0.01|                 0.0|                     0.0|                 0.0|                     0.0|       normal|              1.0|        2.0|     0.0|      1.0|\n",
            "|       0|          udp| private|  SF|      105|      146|   0|             0|     0|  0|                0|        0|              0|         0|           0|       0|                 0|         0|               0|                0|            0|             0|    2|        2|        0.0|            0.0|        0.0|            0.0|          1.0|          0.0|               0.0|           255|               254|                   1.0|                  0.01|                        0.0|                        0.0|                 0.0|                     0.0|                 0.0|                     0.0|snmpgetattack|              2.0|        1.0|     0.0|      3.0|\n",
            "|       0|          tcp|    http|  SF|      230|      260|   0|             0|     0|  0|                0|        1|              0|         0|           0|       0|                 0|         0|               0|                0|            0|             0|    1|       19|        0.0|            0.0|        0.0|            0.0|          1.0|          0.0|              0.11|             3|               255|                   1.0|                   0.0|                       0.33|                       0.07|                0.33|                     0.0|                 0.0|                     0.0|       normal|              1.0|        2.0|     0.0|      1.0|\n",
            "|       0|          udp| private|  SF|      105|      146|   0|             0|     0|  0|                0|        0|              0|         0|           0|       0|                 0|         0|               0|                0|            0|             0|    1|        1|        0.0|            0.0|        0.0|            0.0|          1.0|          0.0|               0.0|           255|               254|                   1.0|                  0.01|                       0.01|                        0.0|                 0.0|                     0.0|                 0.0|                     0.0|       normal|              2.0|        1.0|     0.0|      1.0|\n",
            "|       0|          udp| private|  SF|      105|      146|   0|             0|     0|  0|                0|        0|              0|         0|           0|       0|                 0|         0|               0|                0|            0|             0|    2|        2|        0.0|            0.0|        0.0|            0.0|          1.0|          0.0|               0.0|           255|               252|                  0.99|                  0.01|                        0.0|                        0.0|                 0.0|                     0.0|                 0.0|                     0.0|snmpgetattack|              2.0|        1.0|     0.0|      3.0|\n",
            "|       1|          tcp|    smtp|  SF|     3170|      329|   0|             0|     0|  0|                0|        1|              0|         0|           0|       0|                 0|         0|               0|                0|            0|             0|    1|        2|        0.0|            0.0|        0.0|            0.0|          1.0|          0.0|               1.0|            54|                39|                  0.72|                  0.11|                       0.02|                        0.0|                0.02|                     0.0|                0.09|                    0.13|       normal|              1.0|        3.0|     0.0|      1.0|\n",
            "|       0|          tcp|    http|  SF|      297|    13787|   0|             0|     0|  0|                0|        1|              0|         0|           0|       0|                 0|         0|               0|                0|            0|             0|    2|        2|        0.0|            0.0|        0.0|            0.0|          1.0|          0.0|               0.0|           177|               255|                   1.0|                   0.0|                       0.01|                       0.01|                 0.0|                     0.0|                 0.0|                     0.0|       normal|              1.0|        2.0|     0.0|      1.0|\n",
            "|       0|          tcp|    http|  SF|      291|     3542|   0|             0|     0|  0|                0|        1|              0|         0|           0|       0|                 0|         0|               0|                0|            0|             0|   12|       12|        0.0|            0.0|        0.0|            0.0|          1.0|          0.0|               0.0|           187|               255|                   1.0|                   0.0|                       0.01|                       0.01|                 0.0|                     0.0|                 0.0|                     0.0|       normal|              1.0|        2.0|     0.0|      1.0|\n",
            "|       0|          tcp|    http|  SF|      295|      753|   0|             0|     0|  0|                0|        1|              0|         0|           0|       0|                 0|         0|               0|                0|            0|             0|   21|       22|        0.0|            0.0|        0.0|            0.0|          1.0|          0.0|              0.09|           196|               255|                   1.0|                   0.0|                       0.01|                       0.01|                 0.0|                     0.0|                 0.0|                     0.0|       normal|              1.0|        2.0|     0.0|      1.0|\n",
            "|       0|          udp| private|  SF|      105|      146|   0|             0|     0|  0|                0|        0|              0|         0|           0|       0|                 0|         0|               0|                0|            0|             0|    2|        2|        0.0|            0.0|        0.0|            0.0|          1.0|          0.0|               0.0|           255|               254|                   1.0|                  0.01|                       0.01|                        0.0|                 0.0|                     0.0|                 0.0|                     0.0|snmpgetattack|              2.0|        1.0|     0.0|      3.0|\n",
            "|       0|          udp| private|  SF|      105|      146|   0|             0|     0|  0|                0|        0|              0|         0|           0|       0|                 0|         0|               0|                0|            0|             0|    1|        1|        0.0|            0.0|        0.0|            0.0|          1.0|          0.0|               0.0|           255|               254|                   1.0|                  0.01|                        0.0|                        0.0|                 0.0|                     0.0|                 0.0|                     0.0|snmpgetattack|              2.0|        1.0|     0.0|      3.0|\n",
            "+--------+-------------+--------+----+---------+---------+----+--------------+------+---+-----------------+---------+---------------+----------+------------+--------+------------------+----------+----------------+-----------------+-------------+--------------+-----+---------+-----------+---------------+-----------+---------------+-------------+-------------+------------------+--------------+------------------+----------------------+----------------------+---------------------------+---------------------------+--------------------+------------------------+--------------------+------------------------+-------------+-----------------+-----------+--------+---------+\n",
            "only showing top 20 rows\n",
            "\n"
          ]
        }
      ],
      "source": [
        "dataset.show()"
      ],
      "id": "BC_H7H9mHsfz"
    },
    {
      "cell_type": "code",
      "execution_count": null,
      "metadata": {
        "colab": {
          "base_uri": "https://localhost:8080/"
        },
        "id": "4d641c3f",
        "outputId": "13514352-9912-4999-b035-ae2c58a7f487"
      },
      "outputs": [
        {
          "output_type": "stream",
          "name": "stdout",
          "text": [
            "['protocol_type', 'service', 'flag', 'label', 'label_num']\n"
          ]
        }
      ],
      "source": [
        "exclude_list = categorical_features + [\"label\", \"label_num\"]\n",
        "# print(\"Exclude list:\")\n",
        "print(exclude_list)"
      ],
      "id": "4d641c3f"
    },
    {
      "cell_type": "code",
      "execution_count": null,
      "metadata": {
        "colab": {
          "base_uri": "https://localhost:8080/"
        },
        "id": "474b7555",
        "outputId": "89e4e461-8c99-4f51-ace5-9f9e946a35de"
      },
      "outputs": [
        {
          "output_type": "stream",
          "name": "stdout",
          "text": [
            "['duration', 'src_bytes', 'dst_bytes', 'land', 'wrong_fragment', 'urgent', 'hot', 'num_failed_logins', 'logged_in', 'num_compromised', 'root_shell', 'su_attempted', 'num_root', 'num_file_creations', 'num_shells', 'num_access_files', 'num_outbound_cmds', 'is_host_login', 'is_guest_login', 'count', 'srv_count', 'serror_rate', 'srv_serror_rate', 'rerror_rate', 'srv_rerror_rate', 'same_srv_rate', 'diff_srv_rate', 'srv_diff_host_rate', 'dst_host_count', 'dst_host_srv_count', 'dst_host_same_srv_rate', 'dst_host_diff_srv_rate', 'dst_host_same_src_port_rate', 'dst_host_srv_diff_host_rate', 'dst_host_serror_rate', 'dst_host_srv_serror_rate', 'dst_host_rerror_rate', 'dst_host_srv_rerror_rate', 'protocol_type_num', 'service_num', 'flag_num']\n"
          ]
        }
      ],
      "source": [
        "numerical_cols = [col for col in dataset.columns if col not in exclude_list]\n",
        "print(numerical_cols)"
      ],
      "id": "474b7555"
    },
    {
      "cell_type": "code",
      "execution_count": null,
      "metadata": {
        "colab": {
          "base_uri": "https://localhost:8080/"
        },
        "id": "11dffe6e",
        "outputId": "db2f79e2-c39d-4867-b297-0786eeddac33"
      },
      "outputs": [
        {
          "output_type": "stream",
          "name": "stdout",
          "text": [
            "root\n",
            " |-- duration: integer (nullable = true)\n",
            " |-- protocol_type: string (nullable = true)\n",
            " |-- service: string (nullable = true)\n",
            " |-- flag: string (nullable = true)\n",
            " |-- src_bytes: integer (nullable = true)\n",
            " |-- dst_bytes: integer (nullable = true)\n",
            " |-- land: integer (nullable = true)\n",
            " |-- wrong_fragment: integer (nullable = true)\n",
            " |-- urgent: integer (nullable = true)\n",
            " |-- hot: integer (nullable = true)\n",
            " |-- num_failed_logins: integer (nullable = true)\n",
            " |-- logged_in: integer (nullable = true)\n",
            " |-- num_compromised: integer (nullable = true)\n",
            " |-- root_shell: integer (nullable = true)\n",
            " |-- su_attempted: integer (nullable = true)\n",
            " |-- num_root: integer (nullable = true)\n",
            " |-- num_file_creations: integer (nullable = true)\n",
            " |-- num_shells: integer (nullable = true)\n",
            " |-- num_access_files: integer (nullable = true)\n",
            " |-- num_outbound_cmds: integer (nullable = true)\n",
            " |-- is_host_login: integer (nullable = true)\n",
            " |-- is_guest_login: integer (nullable = true)\n",
            " |-- count: integer (nullable = true)\n",
            " |-- srv_count: integer (nullable = true)\n",
            " |-- serror_rate: double (nullable = true)\n",
            " |-- srv_serror_rate: double (nullable = true)\n",
            " |-- rerror_rate: double (nullable = true)\n",
            " |-- srv_rerror_rate: double (nullable = true)\n",
            " |-- same_srv_rate: double (nullable = true)\n",
            " |-- diff_srv_rate: double (nullable = true)\n",
            " |-- srv_diff_host_rate: double (nullable = true)\n",
            " |-- dst_host_count: integer (nullable = true)\n",
            " |-- dst_host_srv_count: integer (nullable = true)\n",
            " |-- dst_host_same_srv_rate: double (nullable = true)\n",
            " |-- dst_host_diff_srv_rate: double (nullable = true)\n",
            " |-- dst_host_same_src_port_rate: double (nullable = true)\n",
            " |-- dst_host_srv_diff_host_rate: double (nullable = true)\n",
            " |-- dst_host_serror_rate: double (nullable = true)\n",
            " |-- dst_host_srv_serror_rate: double (nullable = true)\n",
            " |-- dst_host_rerror_rate: double (nullable = true)\n",
            " |-- dst_host_srv_rerror_rate: double (nullable = true)\n",
            " |-- label: string (nullable = true)\n",
            " |-- protocol_type_num: double (nullable = false)\n",
            " |-- service_num: double (nullable = false)\n",
            " |-- flag_num: double (nullable = false)\n",
            " |-- label_num: double (nullable = false)\n",
            " |-- features: vector (nullable = true)\n",
            "\n"
          ]
        }
      ],
      "source": [
        "df_assembler = VectorAssembler(inputCols=numerical_cols, outputCol=\"features\")\n",
        "dataset = df_assembler.transform(dataset)\n",
        "dataset.printSchema()"
      ],
      "id": "11dffe6e"
    },
    {
      "cell_type": "code",
      "execution_count": null,
      "metadata": {
        "id": "dkmNKFe4wLma"
      },
      "outputs": [],
      "source": [
        "from pyspark.sql.functions import col\n",
        "# List of string columns to drop\n",
        "string_columns_to_drop = ['protocol_type', 'service', 'flag', 'label']\n",
        "\n",
        "# Drop the string columns\n",
        "dataset = dataset.select([col(column) for column in dataset.columns if column not in string_columns_to_drop])"
      ],
      "id": "dkmNKFe4wLma"
    },
    {
      "cell_type": "code",
      "execution_count": null,
      "metadata": {
        "colab": {
          "base_uri": "https://localhost:8080/"
        },
        "id": "8f006fc5",
        "outputId": "39af5602-21cf-44ff-efa7-4cfcafc98545"
      },
      "outputs": [
        {
          "output_type": "stream",
          "name": "stdout",
          "text": [
            "+--------+---------+---------+----+--------------+------+---+-----------------+---------+---------------+----------+------------+--------+------------------+----------+----------------+-----------------+-------------+--------------+-----+---------+-----------+---------------+-----------+---------------+-------------+-------------+------------------+--------------+------------------+----------------------+----------------------+---------------------------+---------------------------+--------------------+------------------------+--------------------+------------------------+-----------------+-----------+--------+---------+--------------------+\n",
            "|duration|src_bytes|dst_bytes|land|wrong_fragment|urgent|hot|num_failed_logins|logged_in|num_compromised|root_shell|su_attempted|num_root|num_file_creations|num_shells|num_access_files|num_outbound_cmds|is_host_login|is_guest_login|count|srv_count|serror_rate|srv_serror_rate|rerror_rate|srv_rerror_rate|same_srv_rate|diff_srv_rate|srv_diff_host_rate|dst_host_count|dst_host_srv_count|dst_host_same_srv_rate|dst_host_diff_srv_rate|dst_host_same_src_port_rate|dst_host_srv_diff_host_rate|dst_host_serror_rate|dst_host_srv_serror_rate|dst_host_rerror_rate|dst_host_srv_rerror_rate|protocol_type_num|service_num|flag_num|label_num|            features|\n",
            "+--------+---------+---------+----+--------------+------+---+-----------------+---------+---------------+----------+------------+--------+------------------+----------+----------------+-----------------+-------------+--------------+-----+---------+-----------+---------------+-----------+---------------+-------------+-------------+------------------+--------------+------------------+----------------------+----------------------+---------------------------+---------------------------+--------------------+------------------------+--------------------+------------------------+-----------------+-----------+--------+---------+--------------------+\n",
            "|       0|      105|      146|   0|             0|     0|  0|                0|        0|              0|         0|           0|       0|                 0|         0|               0|                0|            0|             0|    1|        1|        0.0|            0.0|        0.0|            0.0|          1.0|          0.0|               0.0|           255|               254|                   1.0|                  0.01|                        0.0|                        0.0|                 0.0|                     0.0|                 0.0|                     0.0|              2.0|        1.0|     0.0|      1.0|(41,[1,2,19,20,25...|\n",
            "|       0|      105|      146|   0|             0|     0|  0|                0|        0|              0|         0|           0|       0|                 0|         0|               0|                0|            0|             0|    1|        1|        0.0|            0.0|        0.0|            0.0|          1.0|          0.0|               0.0|           255|               254|                   1.0|                  0.01|                        0.0|                        0.0|                 0.0|                     0.0|                 0.0|                     0.0|              2.0|        1.0|     0.0|      1.0|(41,[1,2,19,20,25...|\n",
            "|       0|      105|      146|   0|             0|     0|  0|                0|        0|              0|         0|           0|       0|                 0|         0|               0|                0|            0|             0|    1|        1|        0.0|            0.0|        0.0|            0.0|          1.0|          0.0|               0.0|           255|               254|                   1.0|                  0.01|                        0.0|                        0.0|                 0.0|                     0.0|                 0.0|                     0.0|              2.0|        1.0|     0.0|      1.0|(41,[1,2,19,20,25...|\n",
            "|       0|      105|      146|   0|             0|     0|  0|                0|        0|              0|         0|           0|       0|                 0|         0|               0|                0|            0|             0|    2|        2|        0.0|            0.0|        0.0|            0.0|          1.0|          0.0|               0.0|           255|               254|                   1.0|                  0.01|                        0.0|                        0.0|                 0.0|                     0.0|                 0.0|                     0.0|              2.0|        1.0|     0.0|      3.0|(41,[1,2,19,20,25...|\n",
            "|       0|      105|      146|   0|             0|     0|  0|                0|        0|              0|         0|           0|       0|                 0|         0|               0|                0|            0|             0|    2|        2|        0.0|            0.0|        0.0|            0.0|          1.0|          0.0|               0.0|           255|               254|                   1.0|                  0.01|                       0.01|                        0.0|                 0.0|                     0.0|                 0.0|                     0.0|              2.0|        1.0|     0.0|      3.0|(41,[1,2,19,20,25...|\n",
            "|       0|      105|      146|   0|             0|     0|  0|                0|        0|              0|         0|           0|       0|                 0|         0|               0|                0|            0|             0|    2|        2|        0.0|            0.0|        0.0|            0.0|          1.0|          0.0|               0.0|           255|               255|                   1.0|                   0.0|                       0.01|                        0.0|                 0.0|                     0.0|                 0.0|                     0.0|              2.0|        1.0|     0.0|      3.0|(41,[1,2,19,20,25...|\n",
            "|       0|       29|        0|   0|             0|     0|  0|                0|        0|              0|         0|           0|       0|                 0|         0|               0|                0|            0|             0|    2|        1|        0.0|            0.0|        0.0|            0.0|          0.5|          1.0|               0.0|            10|                 3|                   0.3|                   0.3|                        0.3|                        0.0|                 0.0|                     0.0|                 0.0|                     0.0|              2.0|        5.0|     0.0|      1.0|(41,[1,19,20,25,2...|\n",
            "|       0|      105|      146|   0|             0|     0|  0|                0|        0|              0|         0|           0|       0|                 0|         0|               0|                0|            0|             0|    1|        1|        0.0|            0.0|        0.0|            0.0|          1.0|          0.0|               0.0|           255|               253|                  0.99|                  0.01|                        0.0|                        0.0|                 0.0|                     0.0|                 0.0|                     0.0|              2.0|        1.0|     0.0|      1.0|(41,[1,2,19,20,25...|\n",
            "|       0|      105|      146|   0|             0|     0|  0|                0|        0|              0|         0|           0|       0|                 0|         0|               0|                0|            0|             0|    2|        2|        0.0|            0.0|        0.0|            0.0|          1.0|          0.0|               0.0|           255|               254|                   1.0|                  0.01|                        0.0|                        0.0|                 0.0|                     0.0|                 0.0|                     0.0|              2.0|        1.0|     0.0|      3.0|(41,[1,2,19,20,25...|\n",
            "|       0|      223|      185|   0|             0|     0|  0|                0|        1|              0|         0|           0|       0|                 0|         0|               0|                0|            0|             0|    4|        4|        0.0|            0.0|        0.0|            0.0|          1.0|          0.0|               0.0|            71|               255|                   1.0|                   0.0|                       0.01|                       0.01|                 0.0|                     0.0|                 0.0|                     0.0|              1.0|        2.0|     0.0|      1.0|(41,[1,2,8,19,20,...|\n",
            "|       0|      105|      146|   0|             0|     0|  0|                0|        0|              0|         0|           0|       0|                 0|         0|               0|                0|            0|             0|    2|        2|        0.0|            0.0|        0.0|            0.0|          1.0|          0.0|               0.0|           255|               254|                   1.0|                  0.01|                        0.0|                        0.0|                 0.0|                     0.0|                 0.0|                     0.0|              2.0|        1.0|     0.0|      3.0|(41,[1,2,19,20,25...|\n",
            "|       0|      230|      260|   0|             0|     0|  0|                0|        1|              0|         0|           0|       0|                 0|         0|               0|                0|            0|             0|    1|       19|        0.0|            0.0|        0.0|            0.0|          1.0|          0.0|              0.11|             3|               255|                   1.0|                   0.0|                       0.33|                       0.07|                0.33|                     0.0|                 0.0|                     0.0|              1.0|        2.0|     0.0|      1.0|(41,[1,2,8,19,20,...|\n",
            "|       0|      105|      146|   0|             0|     0|  0|                0|        0|              0|         0|           0|       0|                 0|         0|               0|                0|            0|             0|    1|        1|        0.0|            0.0|        0.0|            0.0|          1.0|          0.0|               0.0|           255|               254|                   1.0|                  0.01|                       0.01|                        0.0|                 0.0|                     0.0|                 0.0|                     0.0|              2.0|        1.0|     0.0|      1.0|(41,[1,2,19,20,25...|\n",
            "|       0|      105|      146|   0|             0|     0|  0|                0|        0|              0|         0|           0|       0|                 0|         0|               0|                0|            0|             0|    2|        2|        0.0|            0.0|        0.0|            0.0|          1.0|          0.0|               0.0|           255|               252|                  0.99|                  0.01|                        0.0|                        0.0|                 0.0|                     0.0|                 0.0|                     0.0|              2.0|        1.0|     0.0|      3.0|(41,[1,2,19,20,25...|\n",
            "|       1|     3170|      329|   0|             0|     0|  0|                0|        1|              0|         0|           0|       0|                 0|         0|               0|                0|            0|             0|    1|        2|        0.0|            0.0|        0.0|            0.0|          1.0|          0.0|               1.0|            54|                39|                  0.72|                  0.11|                       0.02|                        0.0|                0.02|                     0.0|                0.09|                    0.13|              1.0|        3.0|     0.0|      1.0|(41,[0,1,2,8,19,2...|\n",
            "|       0|      297|    13787|   0|             0|     0|  0|                0|        1|              0|         0|           0|       0|                 0|         0|               0|                0|            0|             0|    2|        2|        0.0|            0.0|        0.0|            0.0|          1.0|          0.0|               0.0|           177|               255|                   1.0|                   0.0|                       0.01|                       0.01|                 0.0|                     0.0|                 0.0|                     0.0|              1.0|        2.0|     0.0|      1.0|(41,[1,2,8,19,20,...|\n",
            "|       0|      291|     3542|   0|             0|     0|  0|                0|        1|              0|         0|           0|       0|                 0|         0|               0|                0|            0|             0|   12|       12|        0.0|            0.0|        0.0|            0.0|          1.0|          0.0|               0.0|           187|               255|                   1.0|                   0.0|                       0.01|                       0.01|                 0.0|                     0.0|                 0.0|                     0.0|              1.0|        2.0|     0.0|      1.0|(41,[1,2,8,19,20,...|\n",
            "|       0|      295|      753|   0|             0|     0|  0|                0|        1|              0|         0|           0|       0|                 0|         0|               0|                0|            0|             0|   21|       22|        0.0|            0.0|        0.0|            0.0|          1.0|          0.0|              0.09|           196|               255|                   1.0|                   0.0|                       0.01|                       0.01|                 0.0|                     0.0|                 0.0|                     0.0|              1.0|        2.0|     0.0|      1.0|(41,[1,2,8,19,20,...|\n",
            "|       0|      105|      146|   0|             0|     0|  0|                0|        0|              0|         0|           0|       0|                 0|         0|               0|                0|            0|             0|    2|        2|        0.0|            0.0|        0.0|            0.0|          1.0|          0.0|               0.0|           255|               254|                   1.0|                  0.01|                       0.01|                        0.0|                 0.0|                     0.0|                 0.0|                     0.0|              2.0|        1.0|     0.0|      3.0|(41,[1,2,19,20,25...|\n",
            "|       0|      105|      146|   0|             0|     0|  0|                0|        0|              0|         0|           0|       0|                 0|         0|               0|                0|            0|             0|    1|        1|        0.0|            0.0|        0.0|            0.0|          1.0|          0.0|               0.0|           255|               254|                   1.0|                  0.01|                        0.0|                        0.0|                 0.0|                     0.0|                 0.0|                     0.0|              2.0|        1.0|     0.0|      3.0|(41,[1,2,19,20,25...|\n",
            "+--------+---------+---------+----+--------------+------+---+-----------------+---------+---------------+----------+------------+--------+------------------+----------+----------------+-----------------+-------------+--------------+-----+---------+-----------+---------------+-----------+---------------+-------------+-------------+------------------+--------------+------------------+----------------------+----------------------+---------------------------+---------------------------+--------------------+------------------------+--------------------+------------------------+-----------------+-----------+--------+---------+--------------------+\n",
            "only showing top 20 rows\n",
            "\n"
          ]
        }
      ],
      "source": [
        "dataset.show()"
      ],
      "id": "8f006fc5"
    },
    {
      "cell_type": "code",
      "source": [
        "from pyspark.ml.feature import StringIndexer, VectorAssembler, PCA\n",
        "pca = PCA(k=20, inputCol=\"features\", outputCol=\"pca_features\")\n",
        "pca_model = pca.fit(dataset)\n",
        "dataset_pca = pca_model.transform(dataset)"
      ],
      "metadata": {
        "id": "bNru8DHCNBZ3"
      },
      "id": "bNru8DHCNBZ3",
      "execution_count": null,
      "outputs": []
    },
    {
      "cell_type": "code",
      "execution_count": null,
      "metadata": {
        "id": "884082cf",
        "colab": {
          "base_uri": "https://localhost:8080/"
        },
        "outputId": "7ea3392b-b2dc-4453-fc8d-e4a81845c5e8"
      },
      "outputs": [
        {
          "output_type": "execute_result",
          "data": {
            "text/plain": [
              "311029"
            ]
          },
          "metadata": {},
          "execution_count": 24
        }
      ],
      "source": [
        "dataset_pca.count()"
      ],
      "id": "884082cf"
    },
    {
      "cell_type": "code",
      "execution_count": null,
      "metadata": {
        "id": "880ee6b7"
      },
      "outputs": [],
      "source": [
        "# Select the PCA features and label for the final dataset\n",
        "dataset_pca = dataset_pca.select([\"pca_features\", \"label_num\"])"
      ],
      "id": "880ee6b7"
    },
    {
      "cell_type": "code",
      "execution_count": null,
      "metadata": {
        "id": "3acb403b",
        "colab": {
          "base_uri": "https://localhost:8080/"
        },
        "outputId": "eedc1343-e31f-4b3e-c3fb-06bbaf6fe342"
      },
      "outputs": [
        {
          "output_type": "stream",
          "name": "stdout",
          "text": [
            "Training set Count: 279907\n",
            "Test set Count: 31122\n"
          ]
        }
      ],
      "source": [
        "# Split the dataset into train and test sets\n",
        "train_set_pca, test_set_pca = dataset_pca.randomSplit([0.90, 0.10], seed=2019)\n",
        "print(\"Training set Count: \" + str(train_set_pca.count()))\n",
        "print(\"Test set Count: \" + str(test_set_pca.count()))"
      ],
      "id": "3acb403b"
    },
    {
      "cell_type": "code",
      "execution_count": null,
      "metadata": {
        "id": "9a3daf1f"
      },
      "outputs": [],
      "source": [
        "# Logistic Regression model\n",
        "lr2 = LogisticRegression(maxIter=20, regParam=0.3, elasticNetParam=0.8, featuresCol=\"pca_features\",\n",
        "                        labelCol=\"label_num\", family=\"multinomial\")\n",
        "\n",
        "# Decision Tree model\n",
        "dt2 = DecisionTreeClassifier(labelCol=\"label_num\", featuresCol=\"pca_features\",  maxBins=70)\n",
        "\n",
        "# Random Forest model\n",
        "rf2 = RandomForestClassifier(labelCol=\"label_num\", featuresCol=\"pca_features\", numTrees=20, maxBins=70)\n",
        "\n",
        "# Naive Bayes Multinomial\n",
        "nb2 = NaiveBayes(labelCol=\"label_num\", featuresCol=\"pca_features\", smoothing=1.0, modelType=\"multinomial\")\n",
        "\n",
        "# Linear SVM model\n",
        "lsvc2 = LinearSVC(labelCol=\"label_num\", featuresCol=\"pca_features\", maxIter=10)\n",
        "\n",
        "# OneVsRest wrapper\n",
        "ovr2 = OneVsRest(classifier=lsvc2, labelCol=\"label_num\", featuresCol=\"pca_features\")\n",
        "\n",
        "# Multi Layer Perceptron\n",
        "multilayer_perceptron2 = MultilayerPerceptronClassifier(labelCol=\"label_num\", featuresCol=\"pca_features\",\n",
        "                                                       layers=[len(numerical_cols), 10, 5, 38], blockSize=128, seed=1234)"
      ],
      "id": "9a3daf1f"
    },
    {
      "cell_type": "code",
      "execution_count": null,
      "metadata": {
        "id": "915bdb7c"
      },
      "outputs": [],
      "source": [
        "classifier1 = {\"Logistic Regression\": lr2, \"Decision Tree\": dt2,\n",
        "               \"Random Forest\": rf2, #\"Naive Bayes Multinomial\": nb2,\n",
        "                #\"Linear Support Vector Machine\": ovr2, \"Multilayer Perceptron\": multilayer_perceptron2\n",
        "               }\n",
        "\n",
        "metric1 = [\"accuracy\", \"weightedPrecision\", \"weightedRecall\", \"f1\"]"
      ],
      "id": "915bdb7c"
    },
    {
      "cell_type": "code",
      "execution_count": null,
      "metadata": {
        "id": "b7e408a2",
        "colab": {
          "base_uri": "https://localhost:8080/"
        },
        "outputId": "53b583c0-fabd-4a50-d15b-d514aef4d330"
      },
      "outputs": [
        {
          "output_type": "stream",
          "name": "stdout",
          "text": [
            "\n",
            "Models Evaluation:\n",
            "------------------------------\n",
            "Logistic Regression\n",
            "accuracy = 0.63\n",
            "------------------------------\n",
            "weightedPrecision = 0.48\n",
            "------------------------------\n",
            "weightedRecall = 0.63\n",
            "------------------------------\n",
            "f1 = 0.52\n",
            "------------------------------\n",
            "Decision Tree\n",
            "accuracy = 0.94\n",
            "------------------------------\n",
            "weightedPrecision = 0.91\n",
            "------------------------------\n",
            "weightedRecall = 0.94\n",
            "------------------------------\n",
            "f1 = 0.92\n",
            "------------------------------\n",
            "Random Forest\n",
            "accuracy = 0.95\n",
            "------------------------------\n",
            "weightedPrecision = 0.92\n",
            "------------------------------\n",
            "weightedRecall = 0.95\n",
            "------------------------------\n",
            "f1 = 0.93\n",
            "------------------------------\n"
          ]
        }
      ],
      "source": [
        "print(\"\\nModels Evaluation:\")\n",
        "print(\"{:-<30}\".format(\"\"))\n",
        "for c in classifier1:\n",
        "    print(c)\n",
        "    # fit the model\n",
        "    model = classifier1[c].fit(train_set_pca)\n",
        "\n",
        "    # make predictions\n",
        "    predictions = model.transform(test_set_pca)\n",
        "    predictions.cache()\n",
        "\n",
        "    # evaluate performance\n",
        "    evaluator = MulticlassClassificationEvaluator(labelCol=\"label_num\", predictionCol=\"prediction\")\n",
        "\n",
        "    for m in metric1:\n",
        "        evaluator.setMetricName(m)\n",
        "        metric = evaluator.evaluate(predictions)\n",
        "        print(\"{name} = {value:.2f}\".format(name=m, value=metric))\n",
        "\n",
        "        print(\"{:-<30}\".format(\"\"))"
      ],
      "id": "b7e408a2"
    },
    {
      "cell_type": "code",
      "source": [
        "from pyspark.ml import Pipeline\n",
        "# Assuming dt_classifier is your decision tree classifier\n",
        "classifier_stage = dt2\n",
        "\n",
        "# Create a pipeline with the classifier as the only stage\n",
        "pipeline = Pipeline(stages=[classifier_stage])\n",
        "\n",
        "# Fit the pipeline to the training data\n",
        "model = pipeline.fit(train_set_pca)"
      ],
      "metadata": {
        "id": "l48e51VMWuIC"
      },
      "id": "l48e51VMWuIC",
      "execution_count": null,
      "outputs": []
    },
    {
      "cell_type": "code",
      "source": [
        "# SHAP Explanation\n",
        "# Convert Spark DataFrame to Pandas DataFrame\n",
        "pandas_df = test_set_pca.toPandas()"
      ],
      "metadata": {
        "id": "17i5CS1pWzO0"
      },
      "id": "17i5CS1pWzO0",
      "execution_count": null,
      "outputs": []
    },
    {
      "cell_type": "code",
      "source": [
        "pandas_df"
      ],
      "metadata": {
        "colab": {
          "base_uri": "https://localhost:8080/",
          "height": 423
        },
        "id": "IKEWjr7KXHiR",
        "outputId": "1bb6d3d6-2703-48cb-f50f-5adf01a2ea9b"
      },
      "id": "IKEWjr7KXHiR",
      "execution_count": null,
      "outputs": [
        {
          "output_type": "execute_result",
          "data": {
            "text/plain": [
              "                                            pca_features  label_num\n",
              "0      [-283617.1004075654, -716.4595784332352, 272.3...        8.0\n",
              "1      [-283617.1004075654, -716.4595784332352, 272.3...        8.0\n",
              "2      [-283617.1004075654, -716.4595784332352, 272.3...        8.0\n",
              "3      [-283617.10040016554, -716.4595400781009, 272....        8.0\n",
              "4      [-283617.10038537165, -716.4604359781832, 272....        8.0\n",
              "...                                                  ...        ...\n",
              "31117  [0.007258920706397465, -0.3119473168569515, -2...        2.0\n",
              "31118  [0.007258920706397465, -0.3119473168569515, -2...        2.0\n",
              "31119  [0.00725893603082971, -0.31194770868243726, -2...        2.0\n",
              "31120  [0.0072589360369380304, -0.3119477082393384, -...        2.0\n",
              "31121  [0.0072589360369380304, -0.3119477082393384, -...        2.0\n",
              "\n",
              "[31122 rows x 2 columns]"
            ],
            "text/html": [
              "\n",
              "  <div id=\"df-fdf2c877-b217-44b8-99b3-db9ea4a5a411\" class=\"colab-df-container\">\n",
              "    <div>\n",
              "<style scoped>\n",
              "    .dataframe tbody tr th:only-of-type {\n",
              "        vertical-align: middle;\n",
              "    }\n",
              "\n",
              "    .dataframe tbody tr th {\n",
              "        vertical-align: top;\n",
              "    }\n",
              "\n",
              "    .dataframe thead th {\n",
              "        text-align: right;\n",
              "    }\n",
              "</style>\n",
              "<table border=\"1\" class=\"dataframe\">\n",
              "  <thead>\n",
              "    <tr style=\"text-align: right;\">\n",
              "      <th></th>\n",
              "      <th>pca_features</th>\n",
              "      <th>label_num</th>\n",
              "    </tr>\n",
              "  </thead>\n",
              "  <tbody>\n",
              "    <tr>\n",
              "      <th>0</th>\n",
              "      <td>[-283617.1004075654, -716.4595784332352, 272.3...</td>\n",
              "      <td>8.0</td>\n",
              "    </tr>\n",
              "    <tr>\n",
              "      <th>1</th>\n",
              "      <td>[-283617.1004075654, -716.4595784332352, 272.3...</td>\n",
              "      <td>8.0</td>\n",
              "    </tr>\n",
              "    <tr>\n",
              "      <th>2</th>\n",
              "      <td>[-283617.1004075654, -716.4595784332352, 272.3...</td>\n",
              "      <td>8.0</td>\n",
              "    </tr>\n",
              "    <tr>\n",
              "      <th>3</th>\n",
              "      <td>[-283617.10040016554, -716.4595400781009, 272....</td>\n",
              "      <td>8.0</td>\n",
              "    </tr>\n",
              "    <tr>\n",
              "      <th>4</th>\n",
              "      <td>[-283617.10038537165, -716.4604359781832, 272....</td>\n",
              "      <td>8.0</td>\n",
              "    </tr>\n",
              "    <tr>\n",
              "      <th>...</th>\n",
              "      <td>...</td>\n",
              "      <td>...</td>\n",
              "    </tr>\n",
              "    <tr>\n",
              "      <th>31117</th>\n",
              "      <td>[0.007258920706397465, -0.3119473168569515, -2...</td>\n",
              "      <td>2.0</td>\n",
              "    </tr>\n",
              "    <tr>\n",
              "      <th>31118</th>\n",
              "      <td>[0.007258920706397465, -0.3119473168569515, -2...</td>\n",
              "      <td>2.0</td>\n",
              "    </tr>\n",
              "    <tr>\n",
              "      <th>31119</th>\n",
              "      <td>[0.00725893603082971, -0.31194770868243726, -2...</td>\n",
              "      <td>2.0</td>\n",
              "    </tr>\n",
              "    <tr>\n",
              "      <th>31120</th>\n",
              "      <td>[0.0072589360369380304, -0.3119477082393384, -...</td>\n",
              "      <td>2.0</td>\n",
              "    </tr>\n",
              "    <tr>\n",
              "      <th>31121</th>\n",
              "      <td>[0.0072589360369380304, -0.3119477082393384, -...</td>\n",
              "      <td>2.0</td>\n",
              "    </tr>\n",
              "  </tbody>\n",
              "</table>\n",
              "<p>31122 rows × 2 columns</p>\n",
              "</div>\n",
              "    <div class=\"colab-df-buttons\">\n",
              "\n",
              "  <div class=\"colab-df-container\">\n",
              "    <button class=\"colab-df-convert\" onclick=\"convertToInteractive('df-fdf2c877-b217-44b8-99b3-db9ea4a5a411')\"\n",
              "            title=\"Convert this dataframe to an interactive table.\"\n",
              "            style=\"display:none;\">\n",
              "\n",
              "  <svg xmlns=\"http://www.w3.org/2000/svg\" height=\"24px\" viewBox=\"0 -960 960 960\">\n",
              "    <path d=\"M120-120v-720h720v720H120Zm60-500h600v-160H180v160Zm220 220h160v-160H400v160Zm0 220h160v-160H400v160ZM180-400h160v-160H180v160Zm440 0h160v-160H620v160ZM180-180h160v-160H180v160Zm440 0h160v-160H620v160Z\"/>\n",
              "  </svg>\n",
              "    </button>\n",
              "\n",
              "  <style>\n",
              "    .colab-df-container {\n",
              "      display:flex;\n",
              "      gap: 12px;\n",
              "    }\n",
              "\n",
              "    .colab-df-convert {\n",
              "      background-color: #E8F0FE;\n",
              "      border: none;\n",
              "      border-radius: 50%;\n",
              "      cursor: pointer;\n",
              "      display: none;\n",
              "      fill: #1967D2;\n",
              "      height: 32px;\n",
              "      padding: 0 0 0 0;\n",
              "      width: 32px;\n",
              "    }\n",
              "\n",
              "    .colab-df-convert:hover {\n",
              "      background-color: #E2EBFA;\n",
              "      box-shadow: 0px 1px 2px rgba(60, 64, 67, 0.3), 0px 1px 3px 1px rgba(60, 64, 67, 0.15);\n",
              "      fill: #174EA6;\n",
              "    }\n",
              "\n",
              "    .colab-df-buttons div {\n",
              "      margin-bottom: 4px;\n",
              "    }\n",
              "\n",
              "    [theme=dark] .colab-df-convert {\n",
              "      background-color: #3B4455;\n",
              "      fill: #D2E3FC;\n",
              "    }\n",
              "\n",
              "    [theme=dark] .colab-df-convert:hover {\n",
              "      background-color: #434B5C;\n",
              "      box-shadow: 0px 1px 3px 1px rgba(0, 0, 0, 0.15);\n",
              "      filter: drop-shadow(0px 1px 2px rgba(0, 0, 0, 0.3));\n",
              "      fill: #FFFFFF;\n",
              "    }\n",
              "  </style>\n",
              "\n",
              "    <script>\n",
              "      const buttonEl =\n",
              "        document.querySelector('#df-fdf2c877-b217-44b8-99b3-db9ea4a5a411 button.colab-df-convert');\n",
              "      buttonEl.style.display =\n",
              "        google.colab.kernel.accessAllowed ? 'block' : 'none';\n",
              "\n",
              "      async function convertToInteractive(key) {\n",
              "        const element = document.querySelector('#df-fdf2c877-b217-44b8-99b3-db9ea4a5a411');\n",
              "        const dataTable =\n",
              "          await google.colab.kernel.invokeFunction('convertToInteractive',\n",
              "                                                    [key], {});\n",
              "        if (!dataTable) return;\n",
              "\n",
              "        const docLinkHtml = 'Like what you see? Visit the ' +\n",
              "          '<a target=\"_blank\" href=https://colab.research.google.com/notebooks/data_table.ipynb>data table notebook</a>'\n",
              "          + ' to learn more about interactive tables.';\n",
              "        element.innerHTML = '';\n",
              "        dataTable['output_type'] = 'display_data';\n",
              "        await google.colab.output.renderOutput(dataTable, element);\n",
              "        const docLink = document.createElement('div');\n",
              "        docLink.innerHTML = docLinkHtml;\n",
              "        element.appendChild(docLink);\n",
              "      }\n",
              "    </script>\n",
              "  </div>\n",
              "\n",
              "\n",
              "<div id=\"df-96d60983-acf4-4ee8-be2a-a91dcf2c2eba\">\n",
              "  <button class=\"colab-df-quickchart\" onclick=\"quickchart('df-96d60983-acf4-4ee8-be2a-a91dcf2c2eba')\"\n",
              "            title=\"Suggest charts\"\n",
              "            style=\"display:none;\">\n",
              "\n",
              "<svg xmlns=\"http://www.w3.org/2000/svg\" height=\"24px\"viewBox=\"0 0 24 24\"\n",
              "     width=\"24px\">\n",
              "    <g>\n",
              "        <path d=\"M19 3H5c-1.1 0-2 .9-2 2v14c0 1.1.9 2 2 2h14c1.1 0 2-.9 2-2V5c0-1.1-.9-2-2-2zM9 17H7v-7h2v7zm4 0h-2V7h2v10zm4 0h-2v-4h2v4z\"/>\n",
              "    </g>\n",
              "</svg>\n",
              "  </button>\n",
              "\n",
              "<style>\n",
              "  .colab-df-quickchart {\n",
              "      --bg-color: #E8F0FE;\n",
              "      --fill-color: #1967D2;\n",
              "      --hover-bg-color: #E2EBFA;\n",
              "      --hover-fill-color: #174EA6;\n",
              "      --disabled-fill-color: #AAA;\n",
              "      --disabled-bg-color: #DDD;\n",
              "  }\n",
              "\n",
              "  [theme=dark] .colab-df-quickchart {\n",
              "      --bg-color: #3B4455;\n",
              "      --fill-color: #D2E3FC;\n",
              "      --hover-bg-color: #434B5C;\n",
              "      --hover-fill-color: #FFFFFF;\n",
              "      --disabled-bg-color: #3B4455;\n",
              "      --disabled-fill-color: #666;\n",
              "  }\n",
              "\n",
              "  .colab-df-quickchart {\n",
              "    background-color: var(--bg-color);\n",
              "    border: none;\n",
              "    border-radius: 50%;\n",
              "    cursor: pointer;\n",
              "    display: none;\n",
              "    fill: var(--fill-color);\n",
              "    height: 32px;\n",
              "    padding: 0;\n",
              "    width: 32px;\n",
              "  }\n",
              "\n",
              "  .colab-df-quickchart:hover {\n",
              "    background-color: var(--hover-bg-color);\n",
              "    box-shadow: 0 1px 2px rgba(60, 64, 67, 0.3), 0 1px 3px 1px rgba(60, 64, 67, 0.15);\n",
              "    fill: var(--button-hover-fill-color);\n",
              "  }\n",
              "\n",
              "  .colab-df-quickchart-complete:disabled,\n",
              "  .colab-df-quickchart-complete:disabled:hover {\n",
              "    background-color: var(--disabled-bg-color);\n",
              "    fill: var(--disabled-fill-color);\n",
              "    box-shadow: none;\n",
              "  }\n",
              "\n",
              "  .colab-df-spinner {\n",
              "    border: 2px solid var(--fill-color);\n",
              "    border-color: transparent;\n",
              "    border-bottom-color: var(--fill-color);\n",
              "    animation:\n",
              "      spin 1s steps(1) infinite;\n",
              "  }\n",
              "\n",
              "  @keyframes spin {\n",
              "    0% {\n",
              "      border-color: transparent;\n",
              "      border-bottom-color: var(--fill-color);\n",
              "      border-left-color: var(--fill-color);\n",
              "    }\n",
              "    20% {\n",
              "      border-color: transparent;\n",
              "      border-left-color: var(--fill-color);\n",
              "      border-top-color: var(--fill-color);\n",
              "    }\n",
              "    30% {\n",
              "      border-color: transparent;\n",
              "      border-left-color: var(--fill-color);\n",
              "      border-top-color: var(--fill-color);\n",
              "      border-right-color: var(--fill-color);\n",
              "    }\n",
              "    40% {\n",
              "      border-color: transparent;\n",
              "      border-right-color: var(--fill-color);\n",
              "      border-top-color: var(--fill-color);\n",
              "    }\n",
              "    60% {\n",
              "      border-color: transparent;\n",
              "      border-right-color: var(--fill-color);\n",
              "    }\n",
              "    80% {\n",
              "      border-color: transparent;\n",
              "      border-right-color: var(--fill-color);\n",
              "      border-bottom-color: var(--fill-color);\n",
              "    }\n",
              "    90% {\n",
              "      border-color: transparent;\n",
              "      border-bottom-color: var(--fill-color);\n",
              "    }\n",
              "  }\n",
              "</style>\n",
              "\n",
              "  <script>\n",
              "    async function quickchart(key) {\n",
              "      const quickchartButtonEl =\n",
              "        document.querySelector('#' + key + ' button');\n",
              "      quickchartButtonEl.disabled = true;  // To prevent multiple clicks.\n",
              "      quickchartButtonEl.classList.add('colab-df-spinner');\n",
              "      try {\n",
              "        const charts = await google.colab.kernel.invokeFunction(\n",
              "            'suggestCharts', [key], {});\n",
              "      } catch (error) {\n",
              "        console.error('Error during call to suggestCharts:', error);\n",
              "      }\n",
              "      quickchartButtonEl.classList.remove('colab-df-spinner');\n",
              "      quickchartButtonEl.classList.add('colab-df-quickchart-complete');\n",
              "    }\n",
              "    (() => {\n",
              "      let quickchartButtonEl =\n",
              "        document.querySelector('#df-96d60983-acf4-4ee8-be2a-a91dcf2c2eba button');\n",
              "      quickchartButtonEl.style.display =\n",
              "        google.colab.kernel.accessAllowed ? 'block' : 'none';\n",
              "    })();\n",
              "  </script>\n",
              "</div>\n",
              "    </div>\n",
              "  </div>\n"
            ]
          },
          "metadata": {},
          "execution_count": 32
        }
      ]
    },
    {
      "cell_type": "code",
      "source": [
        "# Split the 'features_dense' column into multiple columns\n",
        "import pandas as pd\n",
        "df_features_split = pd.DataFrame(pandas_df['pca_features'].tolist(), columns=['PCA_' + str(i) for i in range(len(pandas_df['pca_features'].iloc[0]))])"
      ],
      "metadata": {
        "id": "cbMkB0diXIU7"
      },
      "id": "cbMkB0diXIU7",
      "execution_count": null,
      "outputs": []
    },
    {
      "cell_type": "code",
      "source": [
        "df_features_split"
      ],
      "metadata": {
        "colab": {
          "base_uri": "https://localhost:8080/",
          "height": 423
        },
        "id": "Im98WqDtXTeX",
        "outputId": "ef828274-a48f-4334-9720-0837542a2102"
      },
      "id": "Im98WqDtXTeX",
      "execution_count": null,
      "outputs": [
        {
          "output_type": "execute_result",
          "data": {
            "text/plain": [
              "               PCA_0       PCA_1       PCA_2       PCA_3       PCA_4  \\\n",
              "0     -283617.100408 -716.459578  272.393269   34.110300   -0.656753   \n",
              "1     -283617.100408 -716.459578  272.393269   34.110300   -0.656753   \n",
              "2     -283617.100408 -716.459578  272.393269   34.110300   -0.656753   \n",
              "3     -283617.100400 -716.459540  272.378663   34.249796   -1.514065   \n",
              "4     -283617.100385 -716.460436  272.379152   34.304574   -0.141163   \n",
              "...              ...         ...         ...         ...         ...   \n",
              "31117       0.007259   -0.311947  -23.441441  231.660476  149.169176   \n",
              "31118       0.007259   -0.311947  -23.441441  231.660476  149.169176   \n",
              "31119       0.007259   -0.311948  -23.441557  231.660414  149.170772   \n",
              "31120       0.007259   -0.311948  -23.441557  231.660415  149.170768   \n",
              "31121       0.007259   -0.311948  -23.441557  231.660415  149.170768   \n",
              "\n",
              "            PCA_5       PCA_6     PCA_7     PCA_8     PCA_9    PCA_10  \\\n",
              "0       -2.436735    2.794778 -5.511632 -0.126310 -0.047607 -0.375276   \n",
              "1       -2.436735    2.794778 -5.511632 -0.126310 -0.047607 -0.375276   \n",
              "2       -2.436735    2.794778 -5.511632 -0.126310 -0.047607 -0.375276   \n",
              "3       -2.632369    3.249575 -5.519755 -0.125846 -0.046858 -0.366757   \n",
              "4       -5.364458    2.439337 -5.532233 -0.124626 -0.037328 -0.722616   \n",
              "...           ...         ...       ...       ...       ...       ...   \n",
              "31117 -237.940027  150.779289 -2.827821  0.240026  2.590091 -0.874299   \n",
              "31118 -237.940027  150.779289 -2.827821  0.240026  2.590091 -0.874299   \n",
              "31119 -237.940016  150.788039 -2.820079  0.241804 -0.389767 -0.878596   \n",
              "31120 -237.940016  150.788030 -2.820060  0.241804 -0.389794 -0.878580   \n",
              "31121 -237.940016  150.788030 -2.820060  0.241804 -0.389794 -0.878580   \n",
              "\n",
              "         PCA_11    PCA_12    PCA_13    PCA_14    PCA_15    PCA_16    PCA_17  \\\n",
              "0     -0.342861 -0.276977 -0.642163 -0.885725  0.424653 -0.087886  0.314042   \n",
              "1     -0.342861 -0.276977 -0.642163 -0.885725  0.424653 -0.087886  0.314042   \n",
              "2     -0.342861 -0.276977 -0.642163 -0.885725  0.424653 -0.087886  0.314042   \n",
              "3     -0.344451 -0.281639 -0.654823 -0.891766  0.429885 -0.089494  0.319472   \n",
              "4     -0.231301 -0.158251 -0.345742 -0.702081  0.347453 -0.060570  0.138515   \n",
              "...         ...       ...       ...       ...       ...       ...       ...   \n",
              "31117  0.519738  0.392909  0.119912 -0.419983  0.181722 -0.012540 -0.000710   \n",
              "31118  0.519738  0.392909  0.119912 -0.419983  0.181722 -0.012540 -0.000710   \n",
              "31119  0.855986  0.451041  0.067249 -0.430643  0.183994 -0.011730  0.013789   \n",
              "31120  0.856211  0.451034  0.067394 -0.428075  0.182547 -0.011461  0.014807   \n",
              "31121  0.856211  0.451034  0.067394 -0.428075  0.182547 -0.011461  0.014807   \n",
              "\n",
              "         PCA_18    PCA_19  \n",
              "0     -0.363471 -0.784677  \n",
              "1     -0.363471 -0.784677  \n",
              "2     -0.363471 -0.784677  \n",
              "3     -0.386056 -0.766510  \n",
              "4     -0.051476 -0.098506  \n",
              "...         ...       ...  \n",
              "31117 -0.353159 -0.562087  \n",
              "31118 -0.353159 -0.562087  \n",
              "31119 -0.345563 -0.558545  \n",
              "31120 -0.350242 -0.560347  \n",
              "31121 -0.350242 -0.560347  \n",
              "\n",
              "[31122 rows x 20 columns]"
            ],
            "text/html": [
              "\n",
              "  <div id=\"df-bc985ce4-bbb2-410d-8c8c-cf3420522100\" class=\"colab-df-container\">\n",
              "    <div>\n",
              "<style scoped>\n",
              "    .dataframe tbody tr th:only-of-type {\n",
              "        vertical-align: middle;\n",
              "    }\n",
              "\n",
              "    .dataframe tbody tr th {\n",
              "        vertical-align: top;\n",
              "    }\n",
              "\n",
              "    .dataframe thead th {\n",
              "        text-align: right;\n",
              "    }\n",
              "</style>\n",
              "<table border=\"1\" class=\"dataframe\">\n",
              "  <thead>\n",
              "    <tr style=\"text-align: right;\">\n",
              "      <th></th>\n",
              "      <th>PCA_0</th>\n",
              "      <th>PCA_1</th>\n",
              "      <th>PCA_2</th>\n",
              "      <th>PCA_3</th>\n",
              "      <th>PCA_4</th>\n",
              "      <th>PCA_5</th>\n",
              "      <th>PCA_6</th>\n",
              "      <th>PCA_7</th>\n",
              "      <th>PCA_8</th>\n",
              "      <th>PCA_9</th>\n",
              "      <th>PCA_10</th>\n",
              "      <th>PCA_11</th>\n",
              "      <th>PCA_12</th>\n",
              "      <th>PCA_13</th>\n",
              "      <th>PCA_14</th>\n",
              "      <th>PCA_15</th>\n",
              "      <th>PCA_16</th>\n",
              "      <th>PCA_17</th>\n",
              "      <th>PCA_18</th>\n",
              "      <th>PCA_19</th>\n",
              "    </tr>\n",
              "  </thead>\n",
              "  <tbody>\n",
              "    <tr>\n",
              "      <th>0</th>\n",
              "      <td>-283617.100408</td>\n",
              "      <td>-716.459578</td>\n",
              "      <td>272.393269</td>\n",
              "      <td>34.110300</td>\n",
              "      <td>-0.656753</td>\n",
              "      <td>-2.436735</td>\n",
              "      <td>2.794778</td>\n",
              "      <td>-5.511632</td>\n",
              "      <td>-0.126310</td>\n",
              "      <td>-0.047607</td>\n",
              "      <td>-0.375276</td>\n",
              "      <td>-0.342861</td>\n",
              "      <td>-0.276977</td>\n",
              "      <td>-0.642163</td>\n",
              "      <td>-0.885725</td>\n",
              "      <td>0.424653</td>\n",
              "      <td>-0.087886</td>\n",
              "      <td>0.314042</td>\n",
              "      <td>-0.363471</td>\n",
              "      <td>-0.784677</td>\n",
              "    </tr>\n",
              "    <tr>\n",
              "      <th>1</th>\n",
              "      <td>-283617.100408</td>\n",
              "      <td>-716.459578</td>\n",
              "      <td>272.393269</td>\n",
              "      <td>34.110300</td>\n",
              "      <td>-0.656753</td>\n",
              "      <td>-2.436735</td>\n",
              "      <td>2.794778</td>\n",
              "      <td>-5.511632</td>\n",
              "      <td>-0.126310</td>\n",
              "      <td>-0.047607</td>\n",
              "      <td>-0.375276</td>\n",
              "      <td>-0.342861</td>\n",
              "      <td>-0.276977</td>\n",
              "      <td>-0.642163</td>\n",
              "      <td>-0.885725</td>\n",
              "      <td>0.424653</td>\n",
              "      <td>-0.087886</td>\n",
              "      <td>0.314042</td>\n",
              "      <td>-0.363471</td>\n",
              "      <td>-0.784677</td>\n",
              "    </tr>\n",
              "    <tr>\n",
              "      <th>2</th>\n",
              "      <td>-283617.100408</td>\n",
              "      <td>-716.459578</td>\n",
              "      <td>272.393269</td>\n",
              "      <td>34.110300</td>\n",
              "      <td>-0.656753</td>\n",
              "      <td>-2.436735</td>\n",
              "      <td>2.794778</td>\n",
              "      <td>-5.511632</td>\n",
              "      <td>-0.126310</td>\n",
              "      <td>-0.047607</td>\n",
              "      <td>-0.375276</td>\n",
              "      <td>-0.342861</td>\n",
              "      <td>-0.276977</td>\n",
              "      <td>-0.642163</td>\n",
              "      <td>-0.885725</td>\n",
              "      <td>0.424653</td>\n",
              "      <td>-0.087886</td>\n",
              "      <td>0.314042</td>\n",
              "      <td>-0.363471</td>\n",
              "      <td>-0.784677</td>\n",
              "    </tr>\n",
              "    <tr>\n",
              "      <th>3</th>\n",
              "      <td>-283617.100400</td>\n",
              "      <td>-716.459540</td>\n",
              "      <td>272.378663</td>\n",
              "      <td>34.249796</td>\n",
              "      <td>-1.514065</td>\n",
              "      <td>-2.632369</td>\n",
              "      <td>3.249575</td>\n",
              "      <td>-5.519755</td>\n",
              "      <td>-0.125846</td>\n",
              "      <td>-0.046858</td>\n",
              "      <td>-0.366757</td>\n",
              "      <td>-0.344451</td>\n",
              "      <td>-0.281639</td>\n",
              "      <td>-0.654823</td>\n",
              "      <td>-0.891766</td>\n",
              "      <td>0.429885</td>\n",
              "      <td>-0.089494</td>\n",
              "      <td>0.319472</td>\n",
              "      <td>-0.386056</td>\n",
              "      <td>-0.766510</td>\n",
              "    </tr>\n",
              "    <tr>\n",
              "      <th>4</th>\n",
              "      <td>-283617.100385</td>\n",
              "      <td>-716.460436</td>\n",
              "      <td>272.379152</td>\n",
              "      <td>34.304574</td>\n",
              "      <td>-0.141163</td>\n",
              "      <td>-5.364458</td>\n",
              "      <td>2.439337</td>\n",
              "      <td>-5.532233</td>\n",
              "      <td>-0.124626</td>\n",
              "      <td>-0.037328</td>\n",
              "      <td>-0.722616</td>\n",
              "      <td>-0.231301</td>\n",
              "      <td>-0.158251</td>\n",
              "      <td>-0.345742</td>\n",
              "      <td>-0.702081</td>\n",
              "      <td>0.347453</td>\n",
              "      <td>-0.060570</td>\n",
              "      <td>0.138515</td>\n",
              "      <td>-0.051476</td>\n",
              "      <td>-0.098506</td>\n",
              "    </tr>\n",
              "    <tr>\n",
              "      <th>...</th>\n",
              "      <td>...</td>\n",
              "      <td>...</td>\n",
              "      <td>...</td>\n",
              "      <td>...</td>\n",
              "      <td>...</td>\n",
              "      <td>...</td>\n",
              "      <td>...</td>\n",
              "      <td>...</td>\n",
              "      <td>...</td>\n",
              "      <td>...</td>\n",
              "      <td>...</td>\n",
              "      <td>...</td>\n",
              "      <td>...</td>\n",
              "      <td>...</td>\n",
              "      <td>...</td>\n",
              "      <td>...</td>\n",
              "      <td>...</td>\n",
              "      <td>...</td>\n",
              "      <td>...</td>\n",
              "      <td>...</td>\n",
              "    </tr>\n",
              "    <tr>\n",
              "      <th>31117</th>\n",
              "      <td>0.007259</td>\n",
              "      <td>-0.311947</td>\n",
              "      <td>-23.441441</td>\n",
              "      <td>231.660476</td>\n",
              "      <td>149.169176</td>\n",
              "      <td>-237.940027</td>\n",
              "      <td>150.779289</td>\n",
              "      <td>-2.827821</td>\n",
              "      <td>0.240026</td>\n",
              "      <td>2.590091</td>\n",
              "      <td>-0.874299</td>\n",
              "      <td>0.519738</td>\n",
              "      <td>0.392909</td>\n",
              "      <td>0.119912</td>\n",
              "      <td>-0.419983</td>\n",
              "      <td>0.181722</td>\n",
              "      <td>-0.012540</td>\n",
              "      <td>-0.000710</td>\n",
              "      <td>-0.353159</td>\n",
              "      <td>-0.562087</td>\n",
              "    </tr>\n",
              "    <tr>\n",
              "      <th>31118</th>\n",
              "      <td>0.007259</td>\n",
              "      <td>-0.311947</td>\n",
              "      <td>-23.441441</td>\n",
              "      <td>231.660476</td>\n",
              "      <td>149.169176</td>\n",
              "      <td>-237.940027</td>\n",
              "      <td>150.779289</td>\n",
              "      <td>-2.827821</td>\n",
              "      <td>0.240026</td>\n",
              "      <td>2.590091</td>\n",
              "      <td>-0.874299</td>\n",
              "      <td>0.519738</td>\n",
              "      <td>0.392909</td>\n",
              "      <td>0.119912</td>\n",
              "      <td>-0.419983</td>\n",
              "      <td>0.181722</td>\n",
              "      <td>-0.012540</td>\n",
              "      <td>-0.000710</td>\n",
              "      <td>-0.353159</td>\n",
              "      <td>-0.562087</td>\n",
              "    </tr>\n",
              "    <tr>\n",
              "      <th>31119</th>\n",
              "      <td>0.007259</td>\n",
              "      <td>-0.311948</td>\n",
              "      <td>-23.441557</td>\n",
              "      <td>231.660414</td>\n",
              "      <td>149.170772</td>\n",
              "      <td>-237.940016</td>\n",
              "      <td>150.788039</td>\n",
              "      <td>-2.820079</td>\n",
              "      <td>0.241804</td>\n",
              "      <td>-0.389767</td>\n",
              "      <td>-0.878596</td>\n",
              "      <td>0.855986</td>\n",
              "      <td>0.451041</td>\n",
              "      <td>0.067249</td>\n",
              "      <td>-0.430643</td>\n",
              "      <td>0.183994</td>\n",
              "      <td>-0.011730</td>\n",
              "      <td>0.013789</td>\n",
              "      <td>-0.345563</td>\n",
              "      <td>-0.558545</td>\n",
              "    </tr>\n",
              "    <tr>\n",
              "      <th>31120</th>\n",
              "      <td>0.007259</td>\n",
              "      <td>-0.311948</td>\n",
              "      <td>-23.441557</td>\n",
              "      <td>231.660415</td>\n",
              "      <td>149.170768</td>\n",
              "      <td>-237.940016</td>\n",
              "      <td>150.788030</td>\n",
              "      <td>-2.820060</td>\n",
              "      <td>0.241804</td>\n",
              "      <td>-0.389794</td>\n",
              "      <td>-0.878580</td>\n",
              "      <td>0.856211</td>\n",
              "      <td>0.451034</td>\n",
              "      <td>0.067394</td>\n",
              "      <td>-0.428075</td>\n",
              "      <td>0.182547</td>\n",
              "      <td>-0.011461</td>\n",
              "      <td>0.014807</td>\n",
              "      <td>-0.350242</td>\n",
              "      <td>-0.560347</td>\n",
              "    </tr>\n",
              "    <tr>\n",
              "      <th>31121</th>\n",
              "      <td>0.007259</td>\n",
              "      <td>-0.311948</td>\n",
              "      <td>-23.441557</td>\n",
              "      <td>231.660415</td>\n",
              "      <td>149.170768</td>\n",
              "      <td>-237.940016</td>\n",
              "      <td>150.788030</td>\n",
              "      <td>-2.820060</td>\n",
              "      <td>0.241804</td>\n",
              "      <td>-0.389794</td>\n",
              "      <td>-0.878580</td>\n",
              "      <td>0.856211</td>\n",
              "      <td>0.451034</td>\n",
              "      <td>0.067394</td>\n",
              "      <td>-0.428075</td>\n",
              "      <td>0.182547</td>\n",
              "      <td>-0.011461</td>\n",
              "      <td>0.014807</td>\n",
              "      <td>-0.350242</td>\n",
              "      <td>-0.560347</td>\n",
              "    </tr>\n",
              "  </tbody>\n",
              "</table>\n",
              "<p>31122 rows × 20 columns</p>\n",
              "</div>\n",
              "    <div class=\"colab-df-buttons\">\n",
              "\n",
              "  <div class=\"colab-df-container\">\n",
              "    <button class=\"colab-df-convert\" onclick=\"convertToInteractive('df-bc985ce4-bbb2-410d-8c8c-cf3420522100')\"\n",
              "            title=\"Convert this dataframe to an interactive table.\"\n",
              "            style=\"display:none;\">\n",
              "\n",
              "  <svg xmlns=\"http://www.w3.org/2000/svg\" height=\"24px\" viewBox=\"0 -960 960 960\">\n",
              "    <path d=\"M120-120v-720h720v720H120Zm60-500h600v-160H180v160Zm220 220h160v-160H400v160Zm0 220h160v-160H400v160ZM180-400h160v-160H180v160Zm440 0h160v-160H620v160ZM180-180h160v-160H180v160Zm440 0h160v-160H620v160Z\"/>\n",
              "  </svg>\n",
              "    </button>\n",
              "\n",
              "  <style>\n",
              "    .colab-df-container {\n",
              "      display:flex;\n",
              "      gap: 12px;\n",
              "    }\n",
              "\n",
              "    .colab-df-convert {\n",
              "      background-color: #E8F0FE;\n",
              "      border: none;\n",
              "      border-radius: 50%;\n",
              "      cursor: pointer;\n",
              "      display: none;\n",
              "      fill: #1967D2;\n",
              "      height: 32px;\n",
              "      padding: 0 0 0 0;\n",
              "      width: 32px;\n",
              "    }\n",
              "\n",
              "    .colab-df-convert:hover {\n",
              "      background-color: #E2EBFA;\n",
              "      box-shadow: 0px 1px 2px rgba(60, 64, 67, 0.3), 0px 1px 3px 1px rgba(60, 64, 67, 0.15);\n",
              "      fill: #174EA6;\n",
              "    }\n",
              "\n",
              "    .colab-df-buttons div {\n",
              "      margin-bottom: 4px;\n",
              "    }\n",
              "\n",
              "    [theme=dark] .colab-df-convert {\n",
              "      background-color: #3B4455;\n",
              "      fill: #D2E3FC;\n",
              "    }\n",
              "\n",
              "    [theme=dark] .colab-df-convert:hover {\n",
              "      background-color: #434B5C;\n",
              "      box-shadow: 0px 1px 3px 1px rgba(0, 0, 0, 0.15);\n",
              "      filter: drop-shadow(0px 1px 2px rgba(0, 0, 0, 0.3));\n",
              "      fill: #FFFFFF;\n",
              "    }\n",
              "  </style>\n",
              "\n",
              "    <script>\n",
              "      const buttonEl =\n",
              "        document.querySelector('#df-bc985ce4-bbb2-410d-8c8c-cf3420522100 button.colab-df-convert');\n",
              "      buttonEl.style.display =\n",
              "        google.colab.kernel.accessAllowed ? 'block' : 'none';\n",
              "\n",
              "      async function convertToInteractive(key) {\n",
              "        const element = document.querySelector('#df-bc985ce4-bbb2-410d-8c8c-cf3420522100');\n",
              "        const dataTable =\n",
              "          await google.colab.kernel.invokeFunction('convertToInteractive',\n",
              "                                                    [key], {});\n",
              "        if (!dataTable) return;\n",
              "\n",
              "        const docLinkHtml = 'Like what you see? Visit the ' +\n",
              "          '<a target=\"_blank\" href=https://colab.research.google.com/notebooks/data_table.ipynb>data table notebook</a>'\n",
              "          + ' to learn more about interactive tables.';\n",
              "        element.innerHTML = '';\n",
              "        dataTable['output_type'] = 'display_data';\n",
              "        await google.colab.output.renderOutput(dataTable, element);\n",
              "        const docLink = document.createElement('div');\n",
              "        docLink.innerHTML = docLinkHtml;\n",
              "        element.appendChild(docLink);\n",
              "      }\n",
              "    </script>\n",
              "  </div>\n",
              "\n",
              "\n",
              "<div id=\"df-9b38e7d9-b8fc-4c6e-a102-495fdb673221\">\n",
              "  <button class=\"colab-df-quickchart\" onclick=\"quickchart('df-9b38e7d9-b8fc-4c6e-a102-495fdb673221')\"\n",
              "            title=\"Suggest charts\"\n",
              "            style=\"display:none;\">\n",
              "\n",
              "<svg xmlns=\"http://www.w3.org/2000/svg\" height=\"24px\"viewBox=\"0 0 24 24\"\n",
              "     width=\"24px\">\n",
              "    <g>\n",
              "        <path d=\"M19 3H5c-1.1 0-2 .9-2 2v14c0 1.1.9 2 2 2h14c1.1 0 2-.9 2-2V5c0-1.1-.9-2-2-2zM9 17H7v-7h2v7zm4 0h-2V7h2v10zm4 0h-2v-4h2v4z\"/>\n",
              "    </g>\n",
              "</svg>\n",
              "  </button>\n",
              "\n",
              "<style>\n",
              "  .colab-df-quickchart {\n",
              "      --bg-color: #E8F0FE;\n",
              "      --fill-color: #1967D2;\n",
              "      --hover-bg-color: #E2EBFA;\n",
              "      --hover-fill-color: #174EA6;\n",
              "      --disabled-fill-color: #AAA;\n",
              "      --disabled-bg-color: #DDD;\n",
              "  }\n",
              "\n",
              "  [theme=dark] .colab-df-quickchart {\n",
              "      --bg-color: #3B4455;\n",
              "      --fill-color: #D2E3FC;\n",
              "      --hover-bg-color: #434B5C;\n",
              "      --hover-fill-color: #FFFFFF;\n",
              "      --disabled-bg-color: #3B4455;\n",
              "      --disabled-fill-color: #666;\n",
              "  }\n",
              "\n",
              "  .colab-df-quickchart {\n",
              "    background-color: var(--bg-color);\n",
              "    border: none;\n",
              "    border-radius: 50%;\n",
              "    cursor: pointer;\n",
              "    display: none;\n",
              "    fill: var(--fill-color);\n",
              "    height: 32px;\n",
              "    padding: 0;\n",
              "    width: 32px;\n",
              "  }\n",
              "\n",
              "  .colab-df-quickchart:hover {\n",
              "    background-color: var(--hover-bg-color);\n",
              "    box-shadow: 0 1px 2px rgba(60, 64, 67, 0.3), 0 1px 3px 1px rgba(60, 64, 67, 0.15);\n",
              "    fill: var(--button-hover-fill-color);\n",
              "  }\n",
              "\n",
              "  .colab-df-quickchart-complete:disabled,\n",
              "  .colab-df-quickchart-complete:disabled:hover {\n",
              "    background-color: var(--disabled-bg-color);\n",
              "    fill: var(--disabled-fill-color);\n",
              "    box-shadow: none;\n",
              "  }\n",
              "\n",
              "  .colab-df-spinner {\n",
              "    border: 2px solid var(--fill-color);\n",
              "    border-color: transparent;\n",
              "    border-bottom-color: var(--fill-color);\n",
              "    animation:\n",
              "      spin 1s steps(1) infinite;\n",
              "  }\n",
              "\n",
              "  @keyframes spin {\n",
              "    0% {\n",
              "      border-color: transparent;\n",
              "      border-bottom-color: var(--fill-color);\n",
              "      border-left-color: var(--fill-color);\n",
              "    }\n",
              "    20% {\n",
              "      border-color: transparent;\n",
              "      border-left-color: var(--fill-color);\n",
              "      border-top-color: var(--fill-color);\n",
              "    }\n",
              "    30% {\n",
              "      border-color: transparent;\n",
              "      border-left-color: var(--fill-color);\n",
              "      border-top-color: var(--fill-color);\n",
              "      border-right-color: var(--fill-color);\n",
              "    }\n",
              "    40% {\n",
              "      border-color: transparent;\n",
              "      border-right-color: var(--fill-color);\n",
              "      border-top-color: var(--fill-color);\n",
              "    }\n",
              "    60% {\n",
              "      border-color: transparent;\n",
              "      border-right-color: var(--fill-color);\n",
              "    }\n",
              "    80% {\n",
              "      border-color: transparent;\n",
              "      border-right-color: var(--fill-color);\n",
              "      border-bottom-color: var(--fill-color);\n",
              "    }\n",
              "    90% {\n",
              "      border-color: transparent;\n",
              "      border-bottom-color: var(--fill-color);\n",
              "    }\n",
              "  }\n",
              "</style>\n",
              "\n",
              "  <script>\n",
              "    async function quickchart(key) {\n",
              "      const quickchartButtonEl =\n",
              "        document.querySelector('#' + key + ' button');\n",
              "      quickchartButtonEl.disabled = true;  // To prevent multiple clicks.\n",
              "      quickchartButtonEl.classList.add('colab-df-spinner');\n",
              "      try {\n",
              "        const charts = await google.colab.kernel.invokeFunction(\n",
              "            'suggestCharts', [key], {});\n",
              "      } catch (error) {\n",
              "        console.error('Error during call to suggestCharts:', error);\n",
              "      }\n",
              "      quickchartButtonEl.classList.remove('colab-df-spinner');\n",
              "      quickchartButtonEl.classList.add('colab-df-quickchart-complete');\n",
              "    }\n",
              "    (() => {\n",
              "      let quickchartButtonEl =\n",
              "        document.querySelector('#df-9b38e7d9-b8fc-4c6e-a102-495fdb673221 button');\n",
              "      quickchartButtonEl.style.display =\n",
              "        google.colab.kernel.accessAllowed ? 'block' : 'none';\n",
              "    })();\n",
              "  </script>\n",
              "</div>\n",
              "    </div>\n",
              "  </div>\n"
            ]
          },
          "metadata": {},
          "execution_count": 34
        }
      ]
    },
    {
      "cell_type": "code",
      "source": [
        "# Concatenate the new columns with the original DataFrame\n",
        "pandas_df = pd.concat([pandas_df, df_features_split], axis=1)\n",
        "\n",
        "# Drop the original 'features_dense' column\n",
        "pandas_df = pandas_df.drop(['pca_features', 'label_num'], axis=1)"
      ],
      "metadata": {
        "id": "VykL7h_TXYGu"
      },
      "id": "VykL7h_TXYGu",
      "execution_count": null,
      "outputs": []
    },
    {
      "cell_type": "code",
      "source": [
        "# Assuming pandas_df is your DataFrame\n",
        "column_names = pandas_df.columns"
      ],
      "metadata": {
        "id": "qOMZUu-XZdXL"
      },
      "id": "qOMZUu-XZdXL",
      "execution_count": null,
      "outputs": []
    },
    {
      "cell_type": "code",
      "source": [
        "! pip install shap"
      ],
      "metadata": {
        "colab": {
          "base_uri": "https://localhost:8080/"
        },
        "id": "plHmHizaXoqA",
        "outputId": "56316c96-9488-48a2-9a5f-be28ababc57b"
      },
      "id": "plHmHizaXoqA",
      "execution_count": null,
      "outputs": [
        {
          "output_type": "stream",
          "name": "stdout",
          "text": [
            "Requirement already satisfied: shap in /usr/local/lib/python3.10/dist-packages (0.44.0)\n",
            "Requirement already satisfied: numpy in /usr/local/lib/python3.10/dist-packages (from shap) (1.23.5)\n",
            "Requirement already satisfied: scipy in /usr/local/lib/python3.10/dist-packages (from shap) (1.11.4)\n",
            "Requirement already satisfied: scikit-learn in /usr/local/lib/python3.10/dist-packages (from shap) (1.2.2)\n",
            "Requirement already satisfied: pandas in /usr/local/lib/python3.10/dist-packages (from shap) (1.5.3)\n",
            "Requirement already satisfied: tqdm>=4.27.0 in /usr/local/lib/python3.10/dist-packages (from shap) (4.66.1)\n",
            "Requirement already satisfied: packaging>20.9 in /usr/local/lib/python3.10/dist-packages (from shap) (23.2)\n",
            "Requirement already satisfied: slicer==0.0.7 in /usr/local/lib/python3.10/dist-packages (from shap) (0.0.7)\n",
            "Requirement already satisfied: numba in /usr/local/lib/python3.10/dist-packages (from shap) (0.58.1)\n",
            "Requirement already satisfied: cloudpickle in /usr/local/lib/python3.10/dist-packages (from shap) (2.2.1)\n",
            "Requirement already satisfied: llvmlite<0.42,>=0.41.0dev0 in /usr/local/lib/python3.10/dist-packages (from numba->shap) (0.41.1)\n",
            "Requirement already satisfied: python-dateutil>=2.8.1 in /usr/local/lib/python3.10/dist-packages (from pandas->shap) (2.8.2)\n",
            "Requirement already satisfied: pytz>=2020.1 in /usr/local/lib/python3.10/dist-packages (from pandas->shap) (2023.3.post1)\n",
            "Requirement already satisfied: joblib>=1.1.1 in /usr/local/lib/python3.10/dist-packages (from scikit-learn->shap) (1.3.2)\n",
            "Requirement already satisfied: threadpoolctl>=2.0.0 in /usr/local/lib/python3.10/dist-packages (from scikit-learn->shap) (3.2.0)\n",
            "Requirement already satisfied: six>=1.5 in /usr/local/lib/python3.10/dist-packages (from python-dateutil>=2.8.1->pandas->shap) (1.16.0)\n"
          ]
        }
      ]
    },
    {
      "cell_type": "code",
      "source": [
        "# Get feature importances\n",
        "feature_importances = model.stages[0].featureImportances\n",
        "\n",
        "# Display feature importances\n",
        "print(\"Feature Importances:\")\n",
        "for i, importance in enumerate(feature_importances):\n",
        "    print(f\"{column_names[i]}: {importance}\")"
      ],
      "metadata": {
        "colab": {
          "base_uri": "https://localhost:8080/"
        },
        "id": "nofy17-7Xsk6",
        "outputId": "ba0a4bc3-5c6f-4e6e-eb88-0e2623c8ce54"
      },
      "id": "nofy17-7Xsk6",
      "execution_count": null,
      "outputs": [
        {
          "output_type": "stream",
          "name": "stdout",
          "text": [
            "Feature Importances:\n",
            "PCA_0: 0.31826781003888016\n",
            "PCA_1: 0.6097731005748636\n",
            "PCA_2: 0.012862193460014309\n",
            "PCA_3: 0.002794008543549185\n",
            "PCA_4: 0.002055985466320074\n",
            "PCA_5: 0.0006179344584020581\n",
            "PCA_6: 0.0\n",
            "PCA_7: 0.0014034804351628698\n",
            "PCA_8: 0.003027408592079985\n",
            "PCA_9: 0.00024391853283544848\n",
            "PCA_10: 0.021012393540670356\n",
            "PCA_11: 0.0\n",
            "PCA_12: 0.01253155292587937\n",
            "PCA_13: 0.0\n",
            "PCA_14: 0.0\n",
            "PCA_15: 6.283617579039912e-05\n",
            "PCA_16: 1.6757615340306076e-05\n",
            "PCA_17: 0.0\n",
            "PCA_18: 0.0\n",
            "PCA_19: 0.01533061964021206\n"
          ]
        }
      ]
    },
    {
      "cell_type": "code",
      "source": [
        "import shap\n",
        "# Explain the model using SHAP\n",
        "explainer = shap.TreeExplainer(model.stages[0])"
      ],
      "metadata": {
        "id": "oYkFcHHFXsg_"
      },
      "id": "oYkFcHHFXsg_",
      "execution_count": null,
      "outputs": []
    },
    {
      "cell_type": "code",
      "source": [
        "shap_values = explainer.shap_values(pandas_df, check_additivity=False)"
      ],
      "metadata": {
        "id": "9c7kJzDQXseD"
      },
      "id": "9c7kJzDQXseD",
      "execution_count": null,
      "outputs": []
    },
    {
      "cell_type": "code",
      "source": [
        "import numpy as np\n",
        "# Summarize the feature importance\n",
        "feature_importance = np.abs(shap_values).mean(axis=0)\n",
        "print(\"Feature Importance:\", feature_importance)"
      ],
      "metadata": {
        "colab": {
          "base_uri": "https://localhost:8080/"
        },
        "id": "VZ0ZbRmIXsb6",
        "outputId": "f4dfe1e5-34c3-4b7b-d4d6-ddd06c01c93c"
      },
      "id": "VZ0ZbRmIXsb6",
      "execution_count": null,
      "outputs": [
        {
          "output_type": "stream",
          "name": "stdout",
          "text": [
            "Feature Importance: [[0.02498453 0.02037236 0.0396248  ... 0.         0.         0.00011391]\n",
            " [0.02498453 0.02037236 0.0396248  ... 0.         0.         0.00011391]\n",
            " [0.02498453 0.02037236 0.0396248  ... 0.         0.         0.00011391]\n",
            " ...\n",
            " [0.02240805 0.02796864 0.0001507  ... 0.         0.         0.00104117]\n",
            " [0.02240805 0.02796864 0.0001507  ... 0.         0.         0.00104117]\n",
            " [0.02240805 0.02796864 0.0001507  ... 0.         0.         0.00104117]]\n"
          ]
        }
      ]
    },
    {
      "cell_type": "code",
      "source": [
        "# Summary plot of SHAP values\n",
        "shap.summary_plot(shap_values, pandas_df, feature_names=column_names)"
      ],
      "metadata": {
        "colab": {
          "base_uri": "https://localhost:8080/",
          "height": 1000
        },
        "id": "BVJ221BnYWsp",
        "outputId": "fd7497f2-2570-4a77-cb1b-809da6131af8"
      },
      "id": "BVJ221BnYWsp",
      "execution_count": null,
      "outputs": [
        {
          "output_type": "display_data",
          "data": {
            "text/plain": [
              "<Figure size 800x950 with 1 Axes>"
            ],
            "image/png": "[encoded data removed]"
          },
          "metadata": {}
        }
      ]
    },
    {
      "cell_type": "code",
      "source": [
        "# SHAP dependence plot for a specific feature\n",
        "feature_of_interest = 'PCA_1'\n",
        "shap.dependence_plot(feature_of_interest, shap_values[0], pandas_df, feature_names=column_names)"
      ],
      "metadata": {
        "colab": {
          "base_uri": "https://localhost:8080/",
          "height": 470
        },
        "id": "jFKCrCzva8yj",
        "outputId": "01672693-8bc7-4068-8691-b723098fee86"
      },
      "id": "jFKCrCzva8yj",
      "execution_count": null,
      "outputs": [
        {
          "output_type": "display_data",
          "data": {
            "text/plain": [
              "<Figure size 750x500 with 2 Axes>"
            ],
            "image/png": "[encoded data removed]"
          },
          "metadata": {}
        }
      ]
    },
    {
      "cell_type": "code",
      "execution_count": null,
      "metadata": {
        "id": "W4o7lPYUGzPY"
      },
      "outputs": [],
      "source": [
        "from pyspark.ml.tuning import ParamGridBuilder, CrossValidator\n",
        "# Define hyperparameter grids for each model\n",
        "paramGrid_lr = (ParamGridBuilder()\n",
        "                .addGrid(lr2.maxIter, [10, 20])\n",
        "                .addGrid(lr2.regParam, [0.1, 0.3])\n",
        "                .addGrid(lr2.elasticNetParam, [0.2, 0.8])\n",
        "                .build())\n",
        "\n",
        "paramGrid_dt = (ParamGridBuilder()\n",
        "                .addGrid(dt2.maxDepth, [5, 10])\n",
        "                .addGrid(dt2.maxBins, [66, 70])\n",
        "                .build())\n",
        "\n",
        "paramGrid_rf = (ParamGridBuilder()\n",
        "                .addGrid(rf2.numTrees, [10, 20])\n",
        "                .addGrid(rf2.maxDepth, [5, 10])\n",
        "                .addGrid(rf2.maxBins, [65, 70])\n",
        "                .build())\n",
        "\n",
        "paramGrid_nb = (ParamGridBuilder()\n",
        "                .addGrid(nb2.smoothing, [0.5, 1.5])\n",
        "                .build())\n",
        "\n",
        "# Define hyperparameter grid for OneVsRest\n",
        "paramGrid_lsvc = (ParamGridBuilder()\n",
        "                 .addGrid(lsvc2.maxIter, [5, 10])\n",
        "                 .build())\n",
        "\n",
        "# OneVsRest wrapper\n",
        "paramGrid_ovr = OneVsRest(classifier=paramGrid_lsvc, labelCol=\"label_num\", featuresCol=\"pca_features\")\n",
        "\n",
        "paramGrid_mlp = (ParamGridBuilder()\n",
        "                 .addGrid(multilayer_perceptron2.layers, [[len(numerical_cols), 10, 5, 38], [len(numerical_cols), 15, 10, 38]])\n",
        "                 .addGrid(multilayer_perceptron2.blockSize, [128, 256])\n",
        "                 .build())\n",
        "\n",
        "# Create parameter grid for tuning\n",
        "param_grid = ParamGridBuilder() \\\n",
        "    .addGrid(lsvc2.regParam, [0.01, 0.1, 1.0]) \\\n",
        "    .build()"
      ],
      "id": "W4o7lPYUGzPY"
    },
    {
      "cell_type": "code",
      "source": [
        "# Dictionary of models and their respective hyperparameter grids\n",
        "models_and_params = {\"Logistic Regression\": (lr2, paramGrid_lr),\n",
        "                    \"Decision Tree\": (dt2, paramGrid_dt),\n",
        "                    # \"Naive Bayes\": (nb2, paramGrid_nb),\n",
        "                     \"Random Forest\": (rf2,paramGrid_rf),\n",
        "                     #\"Linear SVM\": (ovr, param_grid),  # Using OneVsRest for Linear SVM\n",
        "                     #\"Multilayer Perceptron\": (multilayer_perceptron2, paramGrid_mlp)\n",
        "                    }"
      ],
      "metadata": {
        "id": "ejCyJniCQV9G"
      },
      "id": "ejCyJniCQV9G",
      "execution_count": null,
      "outputs": []
    },
    {
      "cell_type": "code",
      "source": [
        "metrics = [\"accuracy\", \"weightedPrecision\", \"weightedRecall\", \"f1\"]"
      ],
      "metadata": {
        "id": "TvxpV27JQlwo"
      },
      "id": "TvxpV27JQlwo",
      "execution_count": null,
      "outputs": []
    },
    {
      "cell_type": "code",
      "source": [
        "# Perform hyperparameter tuning using GridSearchCV\n",
        "print(\"\\nModels Evaluation with Hyperparameter Tuning:\")\n",
        "print(\"{:-<45}\".format(\"\"))\n",
        "for model_name, (model, paramGrid) in models_and_params.items():\n",
        "    print(model_name)\n",
        "\n",
        "    # Create CrossValidator\n",
        "    crossval = CrossValidator(estimator=model,\n",
        "                              estimatorParamMaps=paramGrid,\n",
        "                              evaluator=MulticlassClassificationEvaluator(labelCol=\"label_num\", predictionCol=\"prediction\"),\n",
        "                              numFolds=3)  # You can adjust the number of folds\n",
        "\n",
        "    # Fit the model\n",
        "    best_model = crossval.fit(train_set_pca)\n",
        "\n",
        "    # Make predictions\n",
        "    predictions = best_model.transform(test_set_pca)\n",
        "    predictions.cache()\n",
        "\n",
        "    # Evaluate performance\n",
        "    evaluator = MulticlassClassificationEvaluator(labelCol=\"label_num\", predictionCol=\"prediction\")\n",
        "\n",
        "    for m in metrics:\n",
        "        evaluator.setMetricName(m)\n",
        "        metric = evaluator.evaluate(predictions)\n",
        "        print(\"{name} = {value:.2f}\".format(name=m, value=metric))\n",
        "\n",
        "    print(\"{:-<45}\".format(\"\"))"
      ],
      "metadata": {
        "colab": {
          "base_uri": "https://localhost:8080/"
        },
        "id": "ZjldON5wQcKi",
        "outputId": "f7af9b86-c069-424d-c577-a1f7dc702746"
      },
      "id": "ZjldON5wQcKi",
      "execution_count": null,
      "outputs": [
        {
          "output_type": "stream",
          "name": "stdout",
          "text": [
            "\n",
            "Models Evaluation with Hyperparameter Tuning:\n",
            "---------------------------------------------\n",
            "Logistic Regression\n",
            "accuracy = 0.90\n",
            "weightedPrecision = 0.83\n",
            "weightedRecall = 0.90\n",
            "f1 = 0.86\n",
            "---------------------------------------------\n",
            "Decision Tree\n",
            "accuracy = 0.98\n",
            "weightedPrecision = 0.97\n",
            "weightedRecall = 0.98\n",
            "f1 = 0.97\n",
            "---------------------------------------------\n",
            "Random Forest\n",
            "accuracy = 0.98\n",
            "weightedPrecision = 0.98\n",
            "weightedRecall = 0.98\n",
            "f1 = 0.98\n",
            "---------------------------------------------\n"
          ]
        }
      ]
    },
    {
      "cell_type": "code",
      "source": [],
      "metadata": {
        "id": "6O7J4UePQtUI"
      },
      "id": "6O7J4UePQtUI",
      "execution_count": null,
      "outputs": []
    }
  ],
  "metadata": {
    "accelerator": "GPU",
    "colab": {
      "provenance": []
    },
    "kernelspec": {
      "display_name": "Python 3 (ipykernel)",
      "language": "python",
      "name": "python3"
    },
    "language_info": {
      "codemirror_mode": {
        "name": "ipython",
        "version": 3
      },
      "file_extension": ".py",
      "mimetype": "text/x-python",
      "name": "python",
      "nbconvert_exporter": "python",
      "pygments_lexer": "ipython3",
      "version": "3.11.5"
    }
  },
  "nbformat": 4,
  "nbformat_minor": 5
}